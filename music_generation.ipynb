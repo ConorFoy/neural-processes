{
 "cells": [
  {
   "cell_type": "code",
   "execution_count": null,
   "metadata": {},
   "outputs": [],
   "source": [
    "import os\n",
    "os.environ[\"CUDA_VISIBLE_DEVICES\"]=\"-1\"  "
   ]
  },
  {
   "cell_type": "code",
   "execution_count": null,
   "metadata": {},
   "outputs": [],
   "source": [
    "import pretty_midi\n",
    "import midi\n",
    "import numpy as np\n",
    "import matplotlib.pyplot as plt\n",
    "from keras.models import Model\n",
    "from keras.layers import Dense, Input, Lambda, Concatenate, LSTM\n",
    "\n",
    "from keras.optimizers import Adam\n",
    "\n",
    "from keras import backend as K\n",
    "\n",
    "import copy\n",
    "\n",
    "import tensorflow as tf\n",
    "#import tensorflow_probability as tfp # for tf version 2.0.0, tfp version 0.8 is needed \n",
    "import numpy as np\n",
    "\n",
    "import matplotlib.pyplot as plt\n",
    "import csv\n",
    "from sys import stdout\n",
    "import random\n",
    "\n",
    "import librosa.display\n",
    "import pypianoroll\n",
    "\n",
    "\n",
    "# My code\n",
    "from loading import *\n",
    "from models import *\n",
    "from data import *\n",
    "from midi_to_statematrix import *\n",
    "\n",
    "%matplotlib inline"
   ]
  },
  {
   "cell_type": "code",
   "execution_count": 3,
   "metadata": {},
   "outputs": [
    {
     "name": "stdout",
     "output_type": "stream",
     "text": [
      "TensorFlow version: 2.0.0\n",
      "GPU is available: False\n"
     ]
    }
   ],
   "source": [
    "print(\"TensorFlow version: {}\".format(tf.__version__))\n",
    "print(\"GPU is available: {}\".format(tf.test.is_gpu_available()))"
   ]
  },
  {
   "cell_type": "markdown",
   "metadata": {},
   "source": [
    "# Load data"
   ]
  },
  {
   "cell_type": "code",
   "execution_count": null,
   "metadata": {},
   "outputs": [],
   "source": [
    "file = 'maestro-v2.0.0/maestro-v2.0.0.csv'"
   ]
  },
  {
   "cell_type": "code",
   "execution_count": null,
   "metadata": {},
   "outputs": [],
   "source": [
    "# Call data class\n",
    "data = DataObject(file, what_type = 'train', train_tms = 100, test_tms = 100, fs = 20, window_size = 15)\n",
    "\n",
    "# Create a batch class which we will iterate over\n",
    "train_batch = Batch(data, batch_size = 16, songs_per_batch = 4)"
   ]
  },
  {
   "cell_type": "code",
   "execution_count": null,
   "metadata": {},
   "outputs": [],
   "source": [
    "curr_batch = train_batch.data\n",
    "curr_batch.featurize(use_biaxial = True)"
   ]
  },
  {
   "cell_type": "markdown",
   "metadata": {},
   "source": [
    "# Define model"
   ]
  },
  {
   "cell_type": "code",
   "execution_count": null,
   "metadata": {},
   "outputs": [],
   "source": [
    "def my_binary_loss_seq(y_true, y_pred):\n",
    "    y_true = tf.reshape(y_true, [-1, 78])\n",
    "    y_pred = tf.reshape(y_pred, [-1, 78])\n",
    "    \n",
    "    bce = tf.keras.losses.BinaryCrossentropy()\n",
    "    \n",
    "    return bce(y_true, y_pred)"
   ]
  },
  {
   "cell_type": "code",
   "execution_count": null,
   "metadata": {},
   "outputs": [],
   "source": [
    "model = biaxial_pn_encoder_concat_deeplstm(curr_batch, 32)\n",
    "model.compile(loss = tf.keras.losses.BinaryCrossentropy(), optimizer = Adam(learning_rate=0.0005))\n"
   ]
  },
  {
   "cell_type": "code",
   "execution_count": null,
   "metadata": {},
   "outputs": [],
   "source": [
    "model = biaxial_target_conv2d_model(curr_batch)\n",
    "model.compile(loss = tf.keras.losses.BinaryCrossentropy(), optimizer = Adam(learning_rate=0.0005))"
   ]
  },
  {
   "cell_type": "code",
   "execution_count": null,
   "metadata": {},
   "outputs": [],
   "source": [
    "curr_batch.target_train.shape"
   ]
  },
  {
   "cell_type": "code",
   "execution_count": null,
   "metadata": {},
   "outputs": [],
   "source": [
    "model.summary()"
   ]
  },
  {
   "cell_type": "code",
   "execution_count": null,
   "metadata": {},
   "outputs": [],
   "source": [
    "def inputize(curr_batch):\n",
    "    \n",
    "    train_target = curr_batch.target\n",
    "    train_target = tf.roll(train_target, shift=1, axis=1)\n",
    "    train_target = train_target.numpy()\n",
    "    train_target[:,0,:] = curr_batch.context[:,-1,-1,:]\n",
    "    \n",
    "    return [curr_batch.context, train_target]\n",
    "\n",
    "def generate(train_batch):\n",
    "    \"\"\"a generator for batches, so model.fit_generator can be used. \"\"\"\n",
    "    while True:\n",
    "        new_batch    = next(train_batch)\n",
    "        new_batch.featurize(use_biaxial = False)\n",
    "        yield ([tf.convert_to_tensor(new_batch.context, dtype = tf.float32), \n",
    "                tf.convert_to_tensor(new_batch.target_train, dtype = tf.float32)], \n",
    "               tf.convert_to_tensor(new_batch.target_pred, dtype = tf.float32))"
   ]
  },
  {
   "cell_type": "code",
   "execution_count": null,
   "metadata": {},
   "outputs": [],
   "source": [
    "out = model.predict([tf.convert_to_tensor(curr_batch.context, dtype = tf.float32), \n",
    "                tf.convert_to_tensor(curr_batch.target_train, dtype = tf.float32)], steps = 1)"
   ]
  },
  {
   "cell_type": "code",
   "execution_count": null,
   "metadata": {},
   "outputs": [],
   "source": [
    "DataObject.drop_articulation(curr_batch.target_pred)"
   ]
  },
  {
   "cell_type": "code",
   "execution_count": null,
   "metadata": {},
   "outputs": [],
   "source": [
    "out"
   ]
  },
  {
   "cell_type": "code",
   "execution_count": null,
   "metadata": {},
   "outputs": [],
   "source": [
    "history = model.fit_generator(\n",
    "                    generate(train_batch),\n",
    "                    steps_per_epoch=1024,\n",
    "                    epochs=5)\n",
    "model.save_weights('model_biaxial_oneseq_nofeat.h5')"
   ]
  },
  {
   "cell_type": "code",
   "execution_count": null,
   "metadata": {},
   "outputs": [],
   "source": [
    "model.save_weights('model_rolled_target.h5')"
   ]
  },
  {
   "cell_type": "code",
   "execution_count": null,
   "metadata": {},
   "outputs": [],
   "source": [
    "history.history['loss']"
   ]
  },
  {
   "cell_type": "code",
   "execution_count": null,
   "metadata": {},
   "outputs": [],
   "source": [
    "out = model.predict([tf.convert_to_tensor(curr_batch.context, dtype = tf.float32), \n",
    "                tf.convert_to_tensor(curr_batch.target_train, dtype = tf.float32)], steps = 1)"
   ]
  },
  {
   "cell_type": "code",
   "execution_count": null,
   "metadata": {},
   "outputs": [],
   "source": [
    "curr_batch.target_pred[57,2,:]"
   ]
  },
  {
   "cell_type": "code",
   "execution_count": null,
   "metadata": {},
   "outputs": [],
   "source": [
    "out[57,5,:]"
   ]
  },
  {
   "cell_type": "code",
   "execution_count": null,
   "metadata": {},
   "outputs": [],
   "source": [
    "out[:,:,:].max()"
   ]
  },
  {
   "cell_type": "code",
   "execution_count": null,
   "metadata": {},
   "outputs": [],
   "source": [
    "curr_batch.target_train.shape"
   ]
  },
  {
   "cell_type": "code",
   "execution_count": null,
   "metadata": {},
   "outputs": [],
   "source": [
    "def get_decoder_simple(model):\n",
    "\n",
    "    input_shape = model.get_layer(\"lambda_2\").output.shape\n",
    "\n",
    "    input_embedding = Input(batch_shape = \n",
    "                          (input_shape[0],  # batch_size\n",
    "                           None,            # timesteps ()\n",
    "                           input_shape[2]),  # note_size\n",
    "                          name=\"Input_layer_embedding\")\n",
    "\n",
    "    decoder, _, _ = LSTM(units = 512, \n",
    "                      return_sequences = True,\n",
    "                      return_state = True,\n",
    "                      activation = 'tanh',\n",
    "                      name = 'Decoder_lstm_1')(input_embedding)\n",
    "\n",
    "    decoder = LSTM(units = 88, \n",
    "                      activation = 'sigmoid',\n",
    "                      name = 'Decoder_lstm_2')(decoder)\n",
    "\n",
    "    new_model = Model(input_embedding, decoder)\n",
    "    \n",
    "    names = {layer.name:idx for idx, layer in enumerate(model.layers)}\n",
    "    weights = model.get_weights()\n",
    "\n",
    "    for idx, layer in enumerate(new_model.layers):\n",
    "        if layer.name in names.keys():\n",
    "            new_model.layers[idx].set_weights(weights[names[layer.name]])\n",
    "\n",
    "    return new_model"
   ]
  },
  {
   "cell_type": "code",
   "execution_count": null,
   "metadata": {},
   "outputs": [],
   "source": [
    "#decoder = get_decoder_simple(model)\n",
    "#decoder.summary()\n",
    "\n",
    "#weights_list = model.get_weights()"
   ]
  },
  {
   "cell_type": "code",
   "execution_count": null,
   "metadata": {},
   "outputs": [],
   "source": [
    "out = model([curr_batch.context, curr_batch.target_train])"
   ]
  },
  {
   "cell_type": "markdown",
   "metadata": {},
   "source": [
    "# Create music! (inefficient version) + features "
   ]
  },
  {
   "cell_type": "code",
   "execution_count": null,
   "metadata": {},
   "outputs": [],
   "source": [
    "def load_model(file, curr_batch, modelname, *modelparams):\n",
    "    new_model = modelname(curr_batch, *modelparams)\n",
    "    \n",
    "    new_model.load_weights(file)\n",
    "    \n",
    "    return new_model"
   ]
  },
  {
   "cell_type": "code",
   "execution_count": null,
   "metadata": {},
   "outputs": [],
   "source": [
    "#my_model_name = \"biaxial_window_feature_15_window.h5\"\n",
    "my_model_name = 'biaxial_pn_encoder_concat_deeplstm.h5'"
   ]
  },
  {
   "cell_type": "code",
   "execution_count": null,
   "metadata": {},
   "outputs": [],
   "source": [
    "import pickle\n",
    "pickle.dump(curr_test_batch, file = open('good_batch_for_graph_66.p', 'wb'))"
   ]
  },
  {
   "cell_type": "code",
   "execution_count": null,
   "metadata": {},
   "outputs": [],
   "source": [
    "favorite_color = pickle.load( open( \"good_batch_for_graph_66.p\", \"rb\" ) )"
   ]
  },
  {
   "cell_type": "code",
   "execution_count": null,
   "metadata": {},
   "outputs": [],
   "source": [
    "file = 'maestro-v2.0.0/maestro-v2.0.0.csv'\n",
    "# Get a batch we want to predict\n",
    "data_test = DataObject(file, what_type = 'train', train_tms = 40, test_tms = 20, fs = 20, window_size = 9)\n",
    "\n",
    "# Create a batch class which we will iterate over\n",
    "test_batch = Batch(data_test, batch_size = 64, songs_per_batch = 4)\n",
    "\n",
    "curr_test_batch = copy.deepcopy(test_batch.data)\n",
    "curr_test_batch.target_split = 0\n",
    "curr_test_batch.window_size  = 1\n",
    "curr_test_batch.featurize(use_biaxial = True, out_seq = False)"
   ]
  },
  {
   "cell_type": "code",
   "execution_count": null,
   "metadata": {},
   "outputs": [],
   "source": [
    "curr_test_batch = pickle.load(open( \"good_batch_for_graph_66.p\", \"rb\" ))"
   ]
  },
  {
   "cell_type": "code",
   "execution_count": null,
   "metadata": {},
   "outputs": [],
   "source": [
    "#model = load_model(my_model_name, curr_test_batch, biaxial_target_model, 20)\n",
    "model = load_model(my_model_name, curr_test_batch, biaxial_pn_encoder_concat_deeplstm)"
   ]
  },
  {
   "cell_type": "code",
   "execution_count": null,
   "metadata": {},
   "outputs": [],
   "source": [
    "prediction = model.predict([tf.convert_to_tensor(curr_test_batch.context, dtype = tf.float32), \n",
    "                        tf.convert_to_tensor(curr_test_batch.target_train, dtype = tf.float32)],\n",
    "                          steps = 1)"
   ]
  },
  {
   "cell_type": "code",
   "execution_count": null,
   "metadata": {},
   "outputs": [],
   "source": [
    "#my_model_name = \"biaxial_window_feature_15_window.h5\"\n",
    "my_model_name = 'biaxial_pn_encoder_concat_deeplstm_cont.h5'\n",
    "\n",
    "#curr_test_batch = copy.deepcopy(test_batch.data)\n",
    "curr_test_batch = copy.deepcopy(favorite_color)\n",
    "\n",
    "#curr_test_batch.target = np.zeros((64, 20, 78, 2))\n",
    "\n",
    "curr_test_batch.target_split = 0\n",
    "curr_test_batch.window_size  = data_test.test_tms\n",
    "curr_test_batch.featurize(use_biaxial = True, out_seq = False)\n",
    "\n",
    "#model = load_model(my_model_name, curr_test_batch, biaxial_target_model, 20)\n",
    "model = load_model(my_model_name, curr_test_batch, biaxial_pn_encoder_concat_deeplstm)\n",
    "\n",
    "prediction = model.predict([tf.convert_to_tensor(curr_test_batch.context, dtype = tf.float32), \n",
    "                        tf.convert_to_tensor(curr_test_batch.target_train, dtype = tf.float32)],\n",
    "                          steps = 1)"
   ]
  },
  {
   "cell_type": "code",
   "execution_count": null,
   "metadata": {},
   "outputs": [],
   "source": [
    "my_model_name = 'biaxial_pn_encoder_concat_deeplstm_cont.h5'\n",
    "\n",
    "curr_test_batch = copy.deepcopy(test_batch.data)\n",
    "\n",
    "seq_preds = np.zeros((64, 20, 78))\n",
    "seq_preds[:,0,:] = DataObject.drop_articulation3d(curr_test_batch.target[:,0,:,:])\n",
    "for win in range(1,20):\n",
    "    \n",
    "    print(win)\n",
    "    \n",
    "    curr_test_batch = copy.deepcopy(test_batch.data)\n",
    "    curr_test_batch.target_split = 0\n",
    "    #curr_test_batch.window_size  = data_test.test_tms\n",
    "    curr_test_batch.window_size = win\n",
    "    curr_test_batch.featurize(use_biaxial = True, out_seq = False)\n",
    "\n",
    "    #model = load_model(my_model_name, curr_test_batch, biaxial_target_model, 20)\n",
    "    model = load_model(my_model_name, curr_test_batch, biaxial_pn_encoder_concat_deeplstm)\n",
    "\n",
    "    seq_preds[:,win,:] = model.predict([tf.convert_to_tensor(curr_test_batch.context, dtype = tf.float32), \n",
    "                            tf.convert_to_tensor(curr_test_batch.target_train, dtype = tf.float32)],\n",
    "                              steps = 1)[:,-1,:]"
   ]
  },
  {
   "cell_type": "code",
   "execution_count": null,
   "metadata": {},
   "outputs": [],
   "source": [
    "prediction.shape"
   ]
  },
  {
   "cell_type": "code",
   "execution_count": 4,
   "metadata": {},
   "outputs": [],
   "source": [
    "def plot_pianoroll(\n",
    "    ax,\n",
    "    pianoroll,\n",
    "    is_drum=False,\n",
    "    beat_resolution=None,\n",
    "    downbeats=None,\n",
    "    preset=\"default\",\n",
    "    cmap=\"Blues\",\n",
    "    xtick=\"auto\",\n",
    "    ytick=\"octave\",\n",
    "    xticklabel=True,\n",
    "    yticklabel=\"auto\",\n",
    "    tick_loc=None,\n",
    "    tick_direction=\"in\",\n",
    "    label=\"both\",\n",
    "    grid=\"both\",\n",
    "    grid_linestyle=\":\",\n",
    "    grid_linewidth=0.5,\n",
    "    num_notes = 78,\n",
    "    x_start = 1,\n",
    "    alpha = 1,\n",
    "):\n",
    "    \"\"\"\n",
    "    Plot a pianoroll given as a numpy array.\n",
    "\n",
    "    Parameters\n",
    "    ----------\n",
    "    ax : matplotlib.axes.Axes object\n",
    "        A :class:`matplotlib.axes.Axes` object where the pianoroll will be\n",
    "        plotted on.\n",
    "    pianoroll : np.ndarray\n",
    "        A pianoroll to be plotted. The values should be in [0, 1] when data type\n",
    "        is float, and in [0, 127] when data type is integer.\n",
    "\n",
    "        - For a 2D array, shape=(num_time_step, num_pitch).\n",
    "        - For a 3D array, shape=(num_time_step, num_pitch, num_channel), where\n",
    "          channels can be either RGB or RGBA.\n",
    "\n",
    "    is_drum : bool\n",
    "        A boolean number that indicates whether it is a percussion track.\n",
    "        Defaults to False.\n",
    "    beat_resolution : int\n",
    "        The number of time steps used to represent a beat. Required and only\n",
    "        effective when `xtick` is 'beat'.\n",
    "    downbeats : list\n",
    "        An array that indicates whether the time step contains a downbeat (i.e.,\n",
    "        the first time step of a bar).\n",
    "\n",
    "    preset : {'default', 'plain', 'frame'}\n",
    "        A string that indicates the preset theme to use.\n",
    "\n",
    "        - In 'default' preset, the ticks, grid and labels are on.\n",
    "        - In 'frame' preset, the ticks and grid are both off.\n",
    "        - In 'plain' preset, the x- and y-axis are both off.\n",
    "\n",
    "    cmap :  `matplotlib.colors.Colormap`\n",
    "        The colormap to use in :func:`matplotlib.pyplot.imshow`. Defaults to\n",
    "        'Blues'. Only effective when `pianoroll` is 2D.\n",
    "    xtick : {'auto', 'beat', 'step', 'off'}\n",
    "        A string that indicates what to use as ticks along the x-axis. If 'auto'\n",
    "        is given, automatically set to 'beat' if `beat_resolution` is also given\n",
    "        and set to 'step', otherwise. Defaults to 'auto'.\n",
    "    ytick : {'octave', 'pitch', 'off'}\n",
    "        A string that indicates what to use as ticks along the y-axis.\n",
    "        Defaults to 'octave'.\n",
    "    xticklabel : bool\n",
    "        Whether to add tick labels along the x-axis. Only effective when `xtick`\n",
    "        is not 'off'.\n",
    "    yticklabel : {'auto', 'name', 'number', 'off'}\n",
    "        If 'name', use octave name and pitch name (key name when `is_drum` is\n",
    "        True) as tick labels along the y-axis. If 'number', use pitch number. If\n",
    "        'auto', set to 'name' when `ytick` is 'octave' and 'number' when `ytick`\n",
    "        is 'pitch'. Defaults to 'auto'. Only effective when `ytick` is not\n",
    "        'off'.\n",
    "    tick_loc : tuple or list\n",
    "        The locations to put the ticks. Availables elements are 'bottom', 'top',\n",
    "        'left' and 'right'. Defaults to ('bottom', 'left').\n",
    "    tick_direction : {'in', 'out', 'inout'}\n",
    "        A string that indicates where to put the ticks. Defaults to 'in'. Only\n",
    "        effective when one of `xtick` and `ytick` is on.\n",
    "    label : {'x', 'y', 'both', 'off'}\n",
    "        A string that indicates whether to add labels to the x-axis and y-axis.\n",
    "        Defaults to 'both'.\n",
    "    grid : {'x', 'y', 'both', 'off'}\n",
    "        A string that indicates whether to add grids to the x-axis, y-axis, both\n",
    "        or neither. Defaults to 'both'.\n",
    "    grid_linestyle : str\n",
    "        Will be passed to :meth:`matplotlib.axes.Axes.grid` as 'linestyle'\n",
    "        argument.\n",
    "    grid_linewidth : float\n",
    "        Will be passed to :meth:`matplotlib.axes.Axes.grid` as 'linewidth'\n",
    "        argument.\n",
    "\n",
    "    \"\"\"\n",
    "    \n",
    "    if pianoroll.ndim not in (2, 3):\n",
    "        raise ValueError(\"`pianoroll` must be a 2D or 3D numpy array\")\n",
    "    if pianoroll.shape[1] != num_notes:\n",
    "        raise ValueError(\"The length of the second axis of `pianoroll` must be 128.\")\n",
    "    if xtick not in (\"auto\", \"beat\", \"step\", \"off\"):\n",
    "        raise ValueError(\"`xtick` must be one of {'auto', 'beat', 'step', 'none'}.\")\n",
    "    if xtick == \"beat\" and beat_resolution is None:\n",
    "        raise ValueError(\"`beat_resolution` must be specified when `xtick` is 'beat'.\")\n",
    "    if ytick not in (\"octave\", \"pitch\", \"off\"):\n",
    "        raise ValueError(\"`ytick` must be one of {octave', 'pitch', 'off'}.\")\n",
    "    if not isinstance(xticklabel, bool):\n",
    "        raise TypeError(\"`xticklabel` must be bool.\")\n",
    "    if yticklabel not in (\"auto\", \"name\", \"number\", \"off\"):\n",
    "        raise ValueError(\n",
    "            \"`yticklabel` must be one of {'auto', 'name', 'number', 'off'}.\"\n",
    "        )\n",
    "    if tick_direction not in (\"in\", \"out\", \"inout\"):\n",
    "        raise ValueError(\"`tick_direction` must be one of {'in', 'out', 'inout'}.\")\n",
    "    if label not in (\"x\", \"y\", \"both\", \"off\"):\n",
    "        raise ValueError(\"`label` must be one of {'x', 'y', 'both', 'off'}.\")\n",
    "    if grid not in (\"x\", \"y\", \"both\", \"off\"):\n",
    "        raise ValueError(\"`grid` must be one of {'x', 'y', 'both', 'off'}.\")\n",
    "\n",
    "    # plotting\n",
    "    if pianoroll.ndim > 2:\n",
    "        to_plot = pianoroll.transpose(1, 0, 2)\n",
    "    else:\n",
    "        to_plot = pianoroll.T\n",
    "    if np.issubdtype(pianoroll.dtype, np.bool_) or np.issubdtype(\n",
    "        pianoroll.dtype, np.floating\n",
    "    ):\n",
    "        ax.imshow(\n",
    "            to_plot,\n",
    "            cmap=cmap,\n",
    "            aspect=\"auto\",\n",
    "            vmin=0,\n",
    "            vmax=1,\n",
    "            origin=\"lower\",\n",
    "            interpolation=\"none\",\n",
    "            alpha = alpha,\n",
    "        )\n",
    "    elif np.issubdtype(pianoroll.dtype, np.integer):\n",
    "        ax.imshow(\n",
    "            to_plot,\n",
    "            cmap=cmap,\n",
    "            aspect=\"auto\",\n",
    "            vmin=0,\n",
    "            vmax=127,\n",
    "            origin=\"lower\",\n",
    "            interpolation=\"none\",\n",
    "            alpha = alpha,\n",
    "        )\n",
    "    else:\n",
    "        raise TypeError(\"Unsupported data type for `pianoroll`.\")\n",
    "\n",
    "    # tick setting\n",
    "    if tick_loc is None:\n",
    "        tick_loc = (\"bottom\", \"left\")\n",
    "    if xtick == \"auto\":\n",
    "        xtick = \"beat\" if beat_resolution is not None else \"step\"\n",
    "    if yticklabel == \"auto\":\n",
    "        yticklabel = \"name\" if ytick == \"octave\" else \"number\"\n",
    "\n",
    "    if preset == \"plain\":\n",
    "        ax.axis(\"off\")\n",
    "    elif preset == \"frame\":\n",
    "        ax.tick_params(\n",
    "            direction=tick_direction,\n",
    "            bottom=False,\n",
    "            top=False,\n",
    "            left=False,\n",
    "            right=False,\n",
    "            labelbottom=False,\n",
    "            labeltop=False,\n",
    "            labelleft=False,\n",
    "            labelright=False,\n",
    "        )\n",
    "    else:\n",
    "        ax.tick_params(\n",
    "            direction=tick_direction,\n",
    "            bottom=(\"bottom\" in tick_loc),\n",
    "            top=(\"top\" in tick_loc),\n",
    "            left=(\"left\" in tick_loc),\n",
    "            right=(\"right\" in tick_loc),\n",
    "            labelbottom=(xticklabel != \"off\"),\n",
    "            labelleft=(yticklabel != \"off\"),\n",
    "            labeltop=False,\n",
    "            labelright=False,\n",
    "        )\n",
    "\n",
    "    # x-axis\n",
    "    if xtick == \"beat\" and preset != \"frame\":\n",
    "        num_beat = pianoroll.shape[0] // beat_resolution\n",
    "        ax.set_xticks(beat_resolution * np.arange(num_beat) - 0.5)\n",
    "        ax.set_xticklabels(\"\")\n",
    "        ax.set_xticks(beat_resolution * (np.arange(num_beat) + 0.5) - 0.5, minor=True)\n",
    "        ax.set_xticklabels(np.arange(x_start, num_beat + 1), minor=True)\n",
    "        ax.tick_params(axis=\"x\", which=\"minor\", width=0)\n",
    "\n",
    "    # y-axis\n",
    "    if ytick == \"octave\":\n",
    "        ax.set_yticks(np.arange(0, num_notes, 12))\n",
    "        if yticklabel == \"name\":\n",
    "            ax.set_yticklabels([\"C{}\".format(i - 2) for i in range(11)])\n",
    "    elif ytick == \"step\":\n",
    "        ax.set_yticks(np.arange(0, num_notes))\n",
    "        if yticklabel == \"name\":\n",
    "            if is_drum:\n",
    "                ax.set_yticklabels(\n",
    "                    [pretty_midi.note_number_to_drum_name(i) for i in range(num_notes)]\n",
    "                )\n",
    "            else:\n",
    "                ax.set_yticklabels(\n",
    "                    [pretty_midi.note_number_to_name(i) for i in range(num_notes)]\n",
    "                )\n",
    "\n",
    "    # axis labels\n",
    "    if label in (\"x\", \"both\"):\n",
    "        if xtick == \"step\" or not xticklabel:\n",
    "            ax.set_xlabel(\"time (step)\")\n",
    "        else:\n",
    "            ax.set_xlabel(\"time (beat)\")\n",
    "\n",
    "    if label in (\"y\", \"both\"):\n",
    "        if is_drum:\n",
    "            ax.set_ylabel(\"key name\")\n",
    "        else:\n",
    "            ax.set_ylabel(\"pitch\")\n",
    "\n",
    "    # grid\n",
    "    if grid != \"off\":\n",
    "        ax.grid(\n",
    "            axis=grid, color=\"k\", linestyle=grid_linestyle, linewidth=grid_linewidth\n",
    "        )\n",
    "\n",
    "    # downbeat boarder\n",
    "    if downbeats is not None and preset != \"plain\":\n",
    "        for step in downbeats:\n",
    "            ax.axvline(x=step, color=\"k\", linewidth=1)\n",
    "            "
   ]
  },
  {
   "cell_type": "code",
   "execution_count": null,
   "metadata": {},
   "outputs": [],
   "source": [
    "old_prediction = copy.deepcopy(prediction)"
   ]
  },
  {
   "cell_type": "code",
   "execution_count": null,
   "metadata": {},
   "outputs": [],
   "source": [
    "prediction = copy.deepcopy(old_prediction)"
   ]
  },
  {
   "cell_type": "code",
   "execution_count": null,
   "metadata": {},
   "outputs": [],
   "source": [
    "prediction[33,19,:]"
   ]
  },
  {
   "cell_type": "code",
   "execution_count": null,
   "metadata": {},
   "outputs": [],
   "source": [
    "max_indices = np.zeros(prediction.shape)\n",
    "for batch in range(prediction.shape[0]):\n",
    "    for timestep in range(prediction.shape[1]):\n",
    "        \n",
    "        max_indices[batch,timestep,prediction[batch,timestep,:].argmax()] = 1 \n",
    "        prediction[batch,timestep,:] /= np.sum(prediction[batch,timestep,:])\n",
    "        \n",
    "        \n",
    "        #turn_off = prediction[batch,timestep,:].argsort()[:-20]\n",
    "        #prediction[batch,timestep,turn_off] = 0\n",
    "        pass"
   ]
  },
  {
   "cell_type": "code",
   "execution_count": 5,
   "metadata": {},
   "outputs": [],
   "source": [
    "def pad_with_zeros(pianoroll):\n",
    "    return np.pad(pianoroll, ((0,0),(25, 25)), 'constant', constant_values=(0, 0))\n",
    "\n",
    "def combine_pianoroll(*pianorolls):\n",
    "    \n",
    "    for idx, pianoroll in enumerate(pianorolls):\n",
    "        if idx == 0:\n",
    "            new_pianoroll = pianoroll\n",
    "        else:\n",
    "            new_pianoroll = np.append(new_pianoroll, pianoroll, axis = 0)\n",
    "    \n",
    "    return new_pianoroll\n",
    "\n",
    "def plot_batch_element(batch, which_element = 0, cmap_ctx = 'viridis', cmap_tar = 'Reds', num_subplots = 3, figsize = (12,8)):\n",
    "    fig = plt.figure(figsize = figsize)\n",
    "    ax = fig.add_subplot(num_subplots*100 + 11)\n",
    "    \n",
    "    full_segment = combine_pianoroll(batch.context[which_element,0,:,:],\n",
    "                                     np.zeros(DataObject.drop_articulation3d(batch.target[which_element,:,:]).shape),\n",
    "                                     batch.context[which_element,1,:,:])\n",
    "    \n",
    "    just_target = np.zeros(full_segment.shape)\n",
    "    just_target[40:60, :] = DataObject.drop_articulation3d(batch.target[which_element,:,:])\n",
    "    \n",
    "    plot_pianoroll(ax, full_segment, cmap = cmap_ctx)\n",
    "    plot_pianoroll(ax, just_target,  cmap = cmap_tar, alpha = 1)\n",
    "    ax.axvline(data_test.train_tms)\n",
    "    ax.axvline(data_test.train_tms+data_test.test_tms)\n",
    "    \n",
    "    return fig, ax\n"
   ]
  },
  {
   "cell_type": "code",
   "execution_count": null,
   "metadata": {},
   "outputs": [],
   "source": [
    "weighted_average = np.zeros((prediction.shape[0], prediction.shape[1]))\n",
    "for timestep in range(0, prediction.shape[1]):\n",
    "    for batch in range(0, prediction.shape[0]):\n",
    "        weighted_average[batch, timestep] = np.round(np.average(np.arange(0,78,1), weights = prediction[batch, timestep, :]))"
   ]
  },
  {
   "cell_type": "code",
   "execution_count": null,
   "metadata": {},
   "outputs": [],
   "source": [
    "weighted_sd = np.zeros((prediction.shape[0], prediction.shape[1]))\n",
    "for timestep in range(0, prediction.shape[1]):\n",
    "    for batch in range(0, prediction.shape[0]):\n",
    "        weighted_sd[batch, timestep] = np.round(np.average((np.arange(0,78,1) - weighted_average[batch, timestep])**2, weights = prediction[batch, timestep, :]))"
   ]
  },
  {
   "cell_type": "code",
   "execution_count": 6,
   "metadata": {},
   "outputs": [],
   "source": [
    "from matplotlib.colors import ListedColormap\n",
    "\n",
    "# Choose colormap\n",
    "cmap = plt.cm.Wistia\n",
    "\n",
    "# Get the colormap colors\n",
    "my_cmap = cmap(np.arange(cmap.N))\n",
    "\n",
    "# Set alpha\n",
    "my_cmap[:,-1] = np.linspace(0, 1, cmap.N)\n",
    "\n",
    "# Create new colormap\n",
    "my_cmap = ListedColormap(my_cmap)"
   ]
  },
  {
   "cell_type": "code",
   "execution_count": null,
   "metadata": {},
   "outputs": [],
   "source": [
    "which_indices = np.zeros((64, 20))\n",
    "for batch in range(64):\n",
    "    for timestep in range(20):\n",
    "        which_indices[batch, timestep] = np.where(max_indices[batch, timestep, :] == 1)[0][0]"
   ]
  },
  {
   "cell_type": "code",
   "execution_count": null,
   "metadata": {},
   "outputs": [],
   "source": [
    "batchnum1 = 33\n",
    "batchnum2 = 33\n",
    "cmap = 'Blues'\n",
    "meancol = 'red'\n",
    "\n",
    "fig, ax = plot_batch_element(curr_test_batch, batchnum1, cmap_ctx = cmap, cmap_tar = my_cmap, num_subplots = 1,\n",
    "                            figsize = (12,6))\n",
    "\n",
    "ax.set_xticks(np.arange(0,2*data_test.train_tms + data_test.test_tms,data_test.test_tms/2))\n",
    "ax.set_xticklabels(np.arange(0,2*data_test.train_tms + data_test.test_tms,data_test.test_tms/2))\n",
    "\n",
    "ax.set_xlabel('Timestep')\n",
    "ax.set_ylabel('Pitch')\n",
    "\n",
    "fig.savefig('graphs/top_graph.png', dpi = 300, bbox_inches = 'tight')"
   ]
  },
  {
   "cell_type": "code",
   "execution_count": null,
   "metadata": {},
   "outputs": [],
   "source": [
    "batchnum1 = 33\n",
    "batchnum2 = 33\n",
    "cmap = 'Blues'\n",
    "meancol = 'red'\n",
    "\n",
    "fig = plt.figure(figsize = (12,12))\n",
    "\n",
    "ax2 = fig.add_subplot(212)\n",
    "ax3 = fig.add_subplot(211)\n",
    "\n",
    "\n",
    "plot_pianoroll(ax3, \n",
    "                           128*DataObject.drop_articulation3d(curr_test_batch.target[batchnum2,:,:,:]),\n",
    "                           cmap=my_cmap, alpha = 1)   ######### TRUE\n",
    "#plot_pianoroll(ax3, \n",
    "#                           0.05*128*seq_preds[batchnum1,:,:],\n",
    "#                            cmap=cmap, alpha = 0.5) ######### SEQ_PREDS\n",
    "plot_pianoroll(ax2, \n",
    "                           0.1*128*prediction[batchnum2,:,:],\n",
    "                           cmap=cmap)               ######### PREDICTION\n",
    "\n",
    "ax2.plot(weighted_average[batchnum2,:], ':',\n",
    "         linewidth = 3, color = meancol, alpha = 0.6)          ######### AVERAGE PREDICTION\n",
    "ax2.fill_between(np.arange(0, 20, 1), \n",
    "                 weighted_average[batchnum2,:]-np.sqrt(weighted_sd)[batchnum2,:], \n",
    "                 weighted_average[batchnum2,:]+np.sqrt(weighted_sd)[batchnum2,:],\n",
    "                 alpha = 0.1, color = meancol)\n",
    "\n",
    "ax3.plot(weighted_average[batchnum2,:], ':',\n",
    "         linewidth = 3, color = meancol, alpha = 0.8, label = 'Mean predicted key')######### AVERAGE PREDICTION\n",
    "ax3.fill_between(np.arange(0, 20, 1), \n",
    "                 weighted_average[batchnum2,:]-np.sqrt(weighted_sd)[batchnum2,:], \n",
    "                 weighted_average[batchnum2,:]+np.sqrt(weighted_sd)[batchnum2,:],\n",
    "                 alpha = 0.15, color = meancol)\n",
    "\n",
    "#ax3.plot(which_indices[batchnum2,:], color = 'purple')\n",
    "\n",
    "ax2.set_xticks(np.arange(0,data_test.test_tms,1))\n",
    "ax2.set_xticklabels(np.arange(data_test.train_tms+1,data_test.train_tms+data_test.test_tms+1,1))\n",
    "\n",
    "ax3.set_xticks(np.arange(0,data_test.test_tms,1))\n",
    "ax3.set_xticklabels(np.arange(data_test.train_tms+1,data_test.train_tms+data_test.test_tms+1,1))\n",
    "\n",
    "ax3.set_xlabel('')\n",
    "\n",
    "ax3.set_title('True target overlayed with mean predicted key', fontsize = 18)\n",
    "ax3.legend()\n",
    "\n",
    "ax2.set_title('Predicted probability of playing key', fontsize = 18)\n",
    "ax2.set_xlabel('Timestep')\n",
    "ax2.set_ylabel('Pitch')\n",
    "ax3.set_ylabel('Pitch')\n",
    "\n",
    "fig.savefig('graphs/mid_bott_graph.png', dpi = 300, bbox_inches = 'tight')\n"
   ]
  },
  {
   "cell_type": "code",
   "execution_count": null,
   "metadata": {},
   "outputs": [],
   "source": [
    "import matplotlib.pyplot as plt\n",
    "import matplotlib as mpl\n",
    "\n",
    "fig, ax = plt.subplots(figsize=(1, 20))\n",
    "fig.subplots_adjust(bottom=0.5)\n",
    "\n",
    "cmap = mpl.cm.Blues\n",
    "norm = mpl.colors.Normalize(vmin=0, vmax=0.6)\n",
    "\n",
    "cb1 = mpl.colorbar.ColorbarBase(ax, cmap=cmap,\n",
    "                                norm=norm,\n",
    "                                orientation='vertical')\n",
    "#cb1.set_label('Probability of playing key', fontsize=25)\n",
    "\n",
    "font_size = 25 # Adjust as appropriate.\n",
    "cb1.ax.tick_params(labelsize=font_size)\n",
    "\n",
    "fig.show()\n",
    "\n",
    "fig.savefig('graphs/colorbar_graph.png', dpi = 300, bbox_inches = 'tight')"
   ]
  },
  {
   "cell_type": "code",
   "execution_count": null,
   "metadata": {
    "scrolled": false
   },
   "outputs": [],
   "source": [
    "batchnum1 = 33\n",
    "batchnum2 = 33\n",
    "cmap = 'Blues'\n",
    "meancol = 'red'\n",
    "\n",
    "fig, ax = plot_batch_element(curr_test_batch, batchnum1, cmap_ctx = cmap, cmap_tar = my_cmap, num_subplots = 3, \n",
    "                            figsize = (12,12))\n",
    "\n",
    "#fig2 = plt.figure(figsize = (12,8))\n",
    "#fig3 = plt.figure(figsize = (12,8))\n",
    "\n",
    "\n",
    "ax2 = fig.add_subplot(313)\n",
    "ax3 = fig.add_subplot(312)\n",
    "#plot_pianoroll(ax2, \n",
    "#                           0.5*128*np.multiply(prediction[batchnum,:,:],1/np.tile(np.expand_dims(np.sum(prediction[batchnum,:,:], -1), -1), [1,78])),\n",
    "#                           cmap='Reds')\n",
    "\n",
    "plot_pianoroll(ax3, \n",
    "                           128*DataObject.drop_articulation3d(curr_test_batch.target[batchnum2,:,:,:]),\n",
    "                           cmap=my_cmap, alpha = 1)   ######### TRUE\n",
    "#plot_pianoroll(ax3, \n",
    "#                           0.05*128*seq_preds[batchnum1,:,:],\n",
    "#                            cmap=cmap, alpha = 0.5) ######### SEQ_PREDS\n",
    "plot_pianoroll(ax2, \n",
    "                           0.1*128*prediction[batchnum2,:,:],\n",
    "                           cmap=cmap)               ######### PREDICTION\n",
    "\n",
    "ax2.plot(weighted_average[batchnum2,:], ':',\n",
    "         linewidth = 3, color = meancol, alpha = 0.6)          ######### AVERAGE PREDICTION\n",
    "ax2.fill_between(np.arange(0, 20, 1), \n",
    "                 weighted_average[batchnum2,:]-np.sqrt(weighted_sd)[batchnum2,:], \n",
    "                 weighted_average[batchnum2,:]+np.sqrt(weighted_sd)[batchnum2,:],\n",
    "                 alpha = 0.1, color = meancol)\n",
    "\n",
    "ax3.plot(weighted_average[batchnum2,:], ':',\n",
    "         linewidth = 3, color = meancol, alpha = 0.8, label = 'Mean predicted key')######### AVERAGE PREDICTION\n",
    "ax3.fill_between(np.arange(0, 20, 1), \n",
    "                 weighted_average[batchnum2,:]-np.sqrt(weighted_sd)[batchnum2,:], \n",
    "                 weighted_average[batchnum2,:]+np.sqrt(weighted_sd)[batchnum2,:],\n",
    "                 alpha = 0.15, color = meancol)\n",
    "\n",
    "#ax3.plot(which_indices[batchnum2,:], color = 'purple')\n",
    "\n",
    "ax2.set_xticks(np.arange(0,data_test.test_tms,1))\n",
    "ax2.set_xticklabels(np.arange(data_test.train_tms+1,data_test.train_tms+data_test.test_tms+1,1))\n",
    "\n",
    "ax.set_xticks(np.arange(0,2*data_test.train_tms + data_test.test_tms,data_test.test_tms/2))\n",
    "ax.set_xticklabels(np.arange(0,2*data_test.train_tms + data_test.test_tms,data_test.test_tms/2))\n",
    "\n",
    "ax3.set_xticks(np.arange(0,data_test.test_tms,1))\n",
    "ax3.set_xticklabels(np.arange(data_test.train_tms+1,data_test.train_tms+data_test.test_tms+1,1))\n",
    "\n",
    "ax3.set_xlabel('')\n",
    "ax.set_xlabel('')\n"
   ]
  },
  {
   "cell_type": "markdown",
   "metadata": {},
   "source": [
    "### Now we compare if we switch the order of left and right"
   ]
  },
  {
   "cell_type": "code",
   "execution_count": 61,
   "metadata": {},
   "outputs": [],
   "source": [
    "curr_test_batch_normal = pickle.load(open( \"good_batch_for_graph_66.p\", \"rb\" ))\n",
    "curr_test_batch_normal.target = np.zeros(curr_test_batch_normal.target.shape)\n",
    "\n",
    "\n",
    "curr_test_batch_switch = pickle.load(open( \"good_batch_for_graph_66.p\", \"rb\" ))\n",
    "curr_test_batch_switch.context[:,[0,1],:,:] = curr_test_batch_switch.context[:,[1,0],:,:]\n",
    "curr_test_batch_switch.target = np.zeros(curr_test_batch_switch.target.shape)\n",
    "\n",
    "\n",
    "\n",
    "prediction_normal = model.predict([tf.convert_to_tensor(curr_test_batch_normal.context, dtype = tf.float32), \n",
    "                        tf.convert_to_tensor(curr_test_batch_normal.target_train, dtype = tf.float32)],\n",
    "                          steps = 1)\n",
    "\n",
    "prediction_switch = model.predict([tf.convert_to_tensor(curr_test_batch_switch.context, dtype = tf.float32), \n",
    "                        tf.convert_to_tensor(curr_test_batch_switch.target_train, dtype = tf.float32)],\n",
    "                          steps = 1)\n"
   ]
  },
  {
   "cell_type": "code",
   "execution_count": 78,
   "metadata": {},
   "outputs": [],
   "source": [
    "file = 'maestro-v2.0.0/maestro-v2.0.0.csv'\n",
    "# Get a batch we want to predict\n",
    "data_test = DataObject(file, what_type = what_type, \n",
    "                       train_tms = train_tms, test_tms = test_tms, \n",
    "                       fs = 20, window_size = 15,\n",
    "                       seed = seed)\n",
    "\n",
    "# Create a batch class which we will iterate over\n",
    "test_batch = Batch(data_test, batch_size = batch_size, songs_per_batch = songs_per_batch)\n",
    "\n",
    "\n",
    "############################################# START GENERATING #############################################\n",
    "\n",
    "#test_batch.data = pickle.load(open( \"good_batch_for_graph_66.p\", \"rb\" ))\n",
    "#test_batch.data.context = np.transpose(test_batch.data.context, [1,0,2,3])\n",
    "\n",
    "curr_test_batch = copy.deepcopy(test_batch.data)\n",
    "curr_test_batch.target_split = 0\n",
    "curr_test_batch.window_size  = 20\n",
    "curr_test_batch.featurize(use_biaxial = True)"
   ]
  },
  {
   "cell_type": "code",
   "execution_count": null,
   "metadata": {},
   "outputs": [],
   "source": [
    "batchnum = 40\n",
    "cmap = 'Blues'\n",
    "meancol = 'red'\n",
    "\n",
    "\n",
    "fig, ax = plot_batch_element(curr_test_batch, batchnum, cmap_ctx = cmap, cmap_tar = my_cmap, num_subplots = 3, \n",
    "                            figsize = (12,12))\n",
    "\n",
    "#fig2 = plt.figure(figsize = (12,8))\n",
    "#fig3 = plt.figure(figsize = (12,8))\n",
    "\n",
    "\n",
    "ax2 = fig.add_subplot(312)\n",
    "ax3 = fig.add_subplot(313)\n",
    "#plot_pianoroll(ax2, \n",
    "#                           0.5*128*np.multiply(prediction[batchnum,:,:],1/np.tile(np.expand_dims(np.sum(prediction[batchnum,:,:], -1), -1), [1,78])),\n",
    "#                           cmap='Reds')\n",
    "\n",
    "plot_pianoroll(ax2,0.1*128*prediction_normal[batchnum,:,:],cmap=cmap) # NORMAL  \n",
    "\n",
    "plot_pianoroll(ax3,0.1*128*prediction_switch[batchnum,:,:],cmap=cmap) # NORMAL  \n",
    "\n"
   ]
  },
  {
   "cell_type": "code",
   "execution_count": 79,
   "metadata": {},
   "outputs": [],
   "source": [
    "def plot_batch_element2(batch, fig, which_element = 0, cmap_ctx = 'viridis', cmap_tar = 'Reds', num_subplot = 2):\n",
    "    ax = fig.add_subplot(300 + 10 + num_subplot)\n",
    "    \n",
    "    full_segment = combine_pianoroll(batch.context[which_element,0,:,:],\n",
    "                                     np.zeros(batch.target[which_element,:,:].shape),\n",
    "                                     batch.context[which_element,1,:,:])\n",
    "    \n",
    "    just_target = np.zeros(full_segment.shape)\n",
    "    just_target[40:60, :] = batch.target[which_element,:,:]\n",
    "    \n",
    "    plot_pianoroll(ax, full_segment, cmap = cmap_ctx)\n",
    "    plot_pianoroll(ax, just_target,  cmap = cmap_tar, alpha = 1)\n",
    "    ax.axvline(data_test.train_tms)\n",
    "    ax.axvline(data_test.train_tms+data_test.test_tms)\n",
    "    \n",
    "    return fig, ax\n",
    "\n",
    "# Choose colormap\n",
    "cmap2 = plt.cm.Reds\n",
    "\n",
    "# Get the colormap colors\n",
    "my_cmap2 = cmap2(np.arange(cmap2.N))\n",
    "\n",
    "# Set alpha\n",
    "my_cmap2[:,-1] = np.linspace(0, 1, cmap2.N)\n",
    "\n",
    "# Create new colormap\n",
    "my_cmap2 = ListedColormap(my_cmap2)\n",
    "\n",
    "\n"
   ]
  },
  {
   "cell_type": "code",
   "execution_count": 128,
   "metadata": {},
   "outputs": [
    {
     "data": {
      "text/plain": [
       "Text(0.5, 0, '')"
      ]
     },
     "execution_count": 128,
     "metadata": {},
     "output_type": "execute_result"
    },
    {
     "data": {
      "image/png": "[encoded data removed]",
      "text/plain": [
       "<Figure size 864x864 with 3 Axes>"
      ]
     },
     "metadata": {
      "needs_background": "light"
     },
     "output_type": "display_data"
    }
   ],
   "source": [
    "batchnum = 17\n",
    "cmap = 'Blues'\n",
    "meancol = 'red'\n",
    "\n",
    "fig, ax = plot_batch_element(curr_test_batch, batchnum, cmap_ctx = cmap, cmap_tar = my_cmap, num_subplots = 3, \n",
    "                            figsize = (12,12))\n",
    "\n",
    "#fig2 = plt.figure(figsize = (12,8))\n",
    "#fig3 = plt.figure(figsize = (12,8))\n",
    "\n",
    "\n",
    "#ax2 = fig.add_subplot(312)\n",
    "#ax3 = fig.add_subplot(313)\n",
    "#plot_pianoroll(ax2, \n",
    "#                           0.5*128*np.multiply(prediction[batchnum,:,:],1/np.tile(np.expand_dims(np.sum(prediction[batchnum,:,:], -1), -1), [1,78])),\n",
    "#                           cmap='Reds')\n",
    "\n",
    "temp_test_batch = copy.deepcopy(curr_test_batch)\n",
    "temp_test_batch.target = prediction_normal*4\n",
    "\n",
    "fig, ax2 = plot_batch_element2(temp_test_batch, fig, batchnum, cmap_ctx = cmap, cmap_tar = my_cmap2, num_subplot = 2)\n",
    "\n",
    "temp_test_batch = copy.deepcopy(curr_test_batch)\n",
    "temp_test_batch.target = prediction_switch*4\n",
    "temp_test_batch.context[:,[0,1],:,:] = temp_test_batch.context[:,[1,0],:,:]\n",
    "\n",
    "\n",
    "\n",
    "fig, ax3 = plot_batch_element2(temp_test_batch, fig, batchnum, cmap_ctx = cmap, cmap_tar = my_cmap2, num_subplot = 3)\n",
    "\n",
    "ax.set_title('True sample')\n",
    "ax2.set_title('CNPs improvisation with correct ordering of contexts')\n",
    "ax3.set_title('CNPs improvisation with switched ordering of contexts')\n",
    "\n",
    "ax.set_xlabel('')\n",
    "ax2.set_xlabel('')\n",
    "\n",
    "#plot_pianoroll(ax2,0.1*128*prediction_normal[batchnum,:,:],cmap=cmap) # NORMAL  \n",
    "\n",
    "#plot_pianoroll(ax3,0.1*128*prediction_switch[batchnum,:,:],cmap=cmap) # NORMAL  \n",
    "\n",
    "#fig.savefig('graphs/switched_contexts_5.png', dpi = 300, bbox_inches = 'tight')\n"
   ]
  },
  {
   "cell_type": "code",
   "execution_count": null,
   "metadata": {},
   "outputs": [],
   "source": [
    "import scipy.stats as st\n",
    "\n",
    "def turn_probabilities_to_notes(prediction, how = 'random', normalize = True, threshold = 0.1, turn_on = 6):\n",
    "    \n",
    "    for batch in range(prediction.shape[0]):\n",
    "        turn_off = prediction[batch,:].argsort()[:-turn_on]\n",
    "        prediction[batch, :][turn_off] = 0\n",
    "        \n",
    "        if normalize:\n",
    "            prediction[batch, :] = st.norm.cdf((prediction[batch, :] - \n",
    "                                                np.mean(prediction[batch, :][prediction[batch, :] > 0]))/\n",
    "                                               np.sqrt(np.var(prediction[batch, :][prediction[batch, :]>0])))/4\n",
    "            prediction[batch, :][turn_off] = 0\n",
    "        #prediction[batch,:] = prediction[batch,:]*(0.5/np.mean(prediction[batch,:][prediction[batch,:]>0]))\n",
    "        #prediction[batch,:] = prediction[batch,:]/prediction[batch,:].max()\n",
    "    \n",
    "    if how == 'random':\n",
    "        \n",
    "        notes =  np.random.binomial(1, p=prediction)\n",
    "        \n",
    "    elif how == 'random_thresholded':\n",
    "        \n",
    "        prediction[prediction >= threshold] += 0.5\n",
    "        prediction[prediction > 1] = 1\n",
    "        prediction[prediction < threshold] = 0\n",
    "        \n",
    "        notes =  np.random.binomial(1, p=prediction)\n",
    "        \n",
    "    elif how == 'thresholded':\n",
    "        \n",
    "        prediction[prediction >= threshold] = 1\n",
    "        prediction[prediction < threshold] = 0\n",
    "        \n",
    "        notes = prediction\n",
    "    \n",
    "    return notes        "
   ]
  },
  {
   "cell_type": "markdown",
   "metadata": {},
   "source": [
    "# ALL IN ONE EXPERIMENTAL"
   ]
  },
  {
   "cell_type": "code",
   "execution_count": 74,
   "metadata": {},
   "outputs": [],
   "source": [
    "##################### GENERATION PARAMETERS #####################\n",
    "\n",
    "my_model_name = \"biaxial_pn_encoder_concat_deeplstm_cont.h5\"\n",
    "foldername = 'experiment_switch_order3'\n",
    "\n",
    "# data \n",
    "what_type = 'test'\n",
    "train_tms = 40\n",
    "test_tms = 20\n",
    "batch_size = 64\n",
    "songs_per_batch = 16\n",
    "seed = 1212\n",
    "\n",
    "\n",
    "# turn probabilities to notes params\n",
    "how = 'random'\n",
    "normalize = False\n",
    "remap_to_max = True\n",
    "turn_on_notes = 8\n",
    "divide_prob = 2\n",
    "articulation_prob = 0.0018\n",
    "remap_prob = 0.35\n",
    "\n",
    "# Recurrence params\n",
    "pick_pred_from_idx = 0"
   ]
  },
  {
   "cell_type": "code",
   "execution_count": 75,
   "metadata": {},
   "outputs": [
    {
     "name": "stdout",
     "output_type": "stream",
     "text": [
      "timestep 19/20saving 0\n",
      "saving 1\n",
      "saving 2\n",
      "saving 3\n",
      "saving 4\n",
      "saving 5\n",
      "saving 6\n",
      "saving 7\n",
      "saving 8\n",
      "saving 9\n",
      "saving 10\n",
      "saving 11\n",
      "saving 12\n",
      "saving 13\n",
      "saving 14\n",
      "saving 15\n",
      "saving 16\n",
      "saving 17\n",
      "saving 18\n",
      "saving 19\n",
      "saving 20\n",
      "saving 21\n",
      "saving 22\n",
      "saving 23\n",
      "saving 24\n",
      "saving 25\n",
      "saving 26\n",
      "saving 27\n",
      "saving 28\n",
      "saving 29\n",
      "saving 30\n",
      "saving 31\n",
      "saving 32\n",
      "saving 33\n",
      "saving 34\n",
      "saving 35\n",
      "saving 36\n",
      "saving 37\n",
      "saving 38\n",
      "saving 39\n",
      "saving 40\n",
      "saving 41\n",
      "saving 42\n",
      "saving 43\n",
      "saving 44\n",
      "saving 45\n",
      "saving 46\n",
      "saving 47\n",
      "saving 48\n",
      "saving 49\n",
      "saving 50\n",
      "saving 51\n",
      "saving 52\n",
      "saving 53\n",
      "saving 54\n",
      "saving 55\n",
      "saving 56\n",
      "saving 57\n",
      "saving 58\n",
      "saving 59\n",
      "saving 60\n",
      "saving 61\n",
      "saving 62\n",
      "saving 63\n"
     ]
    }
   ],
   "source": [
    "import scipy.stats as st\n",
    "import os\n",
    "from os import path\n",
    "import sys\n",
    "import pickle\n",
    "\n",
    "\n",
    "def load_model(file, curr_batch, modelname, *modelparams):\n",
    "    new_model = modelname(curr_batch, *modelparams)\n",
    "    \n",
    "    new_model.load_weights(file)\n",
    "    \n",
    "    return new_model\n",
    "\n",
    "def turn_probabilities_to_notes(prediction, \n",
    "                                turn_on, \n",
    "                                how = 'random', \n",
    "                                normalize = True, \n",
    "                                threshold = 0.1, \n",
    "                                divide_prob = 2,\n",
    "                                remap_to_max = True):\n",
    "    \n",
    "    for batch in range(prediction.shape[0]):\n",
    "        if turn_on[batch] <= 1:\n",
    "            prediction[batch, :] = 0\n",
    "            continue\n",
    "        turn_off = prediction[batch, :].argsort()[:-int(turn_on[batch])]\n",
    "        prediction[batch, :][turn_off] = 0\n",
    "        \n",
    "        if normalize: \n",
    "            prediction[batch, timestep, :] = st.norm.cdf((prediction[batch, timestep, :] - \n",
    "                                                np.mean(prediction[batch, timestep, :][prediction[batch, timestep, :] > 0]))/\n",
    "                                               np.sqrt(np.var(prediction[batch, timestep, :][prediction[batch, timestep, :]>0])))/divide_prob\n",
    "            prediction[batch, timestep, :][turn_off] = 0\n",
    "        \n",
    "        if remap_to_max:\n",
    "            prediction[batch, :] /= prediction[batch, :].max()\n",
    "            prediction[batch, :] *= remap_prob\n",
    "        \n",
    "    if how == 'random':\n",
    "        \n",
    "        notes =  np.random.binomial(1, p=prediction)\n",
    "        \n",
    "    elif how == 'random_thresholded':\n",
    "        \n",
    "        prediction[prediction >= threshold] += 0.5\n",
    "        prediction[prediction > 1] = 1\n",
    "        prediction[prediction < threshold] = 0\n",
    "        \n",
    "        notes =  np.random.binomial(1, p=prediction)\n",
    "        \n",
    "    elif how == 'thresholded':\n",
    "        \n",
    "        prediction[prediction >= threshold] = 1\n",
    "        prediction[prediction < threshold] = 0\n",
    "        \n",
    "        notes = prediction\n",
    "    \n",
    "    return notes     \n",
    "\n",
    "############################################# LOAD DATA ####################################################\n",
    "\n",
    "file = 'maestro-v2.0.0/maestro-v2.0.0.csv'\n",
    "# Get a batch we want to predict\n",
    "data_test = DataObject(file, what_type = what_type, \n",
    "                       train_tms = train_tms, test_tms = test_tms, \n",
    "                       fs = 20, window_size = 15,\n",
    "                       seed = seed)\n",
    "\n",
    "# Create a batch class which we will iterate over\n",
    "test_batch = Batch(data_test, batch_size = batch_size, songs_per_batch = songs_per_batch)\n",
    "\n",
    "\n",
    "############################################# START GENERATING #############################################\n",
    "\n",
    "#test_batch.data = pickle.load(open( \"good_batch_for_graph_66.p\", \"rb\" ))\n",
    "#test_batch.data.context = np.transpose(test_batch.data.context, [1,0,2,3])\n",
    "\n",
    "curr_test_batch = copy.deepcopy(test_batch.data)\n",
    "\n",
    "curr_test_batch.context[[0,1],:,:,:] = curr_test_batch.context[[1,0],:,:,:]\n",
    "\n",
    "\n",
    "#curr_test_batch.target_split = 0\n",
    "#curr_test_batch.window_size  = 15\n",
    "#curr_test_batch.featurize(use_biaxial = True)\n",
    "\n",
    "#model = load_model(my_model_name, curr_test_batch, biaxial_pn_encoder_concat_deeplstm)\n",
    "\n",
    "final_output = np.zeros((test_batch.batch_size, \n",
    "                         19+data_test.test_tms+19, \n",
    "                         78))\n",
    "\n",
    "# Populate from the front\n",
    "final_output[:,0:19,:] = curr_test_batch.context[0,:,-19:,:]\n",
    "final_output[:,20,:] = DataObject.drop_articulation3d(curr_test_batch.target[:,0,:,:])\n",
    "\n",
    "# Populate from the back \n",
    "final_output[:,-19:,:] = curr_test_batch.context[1,:,0:19,:]\n",
    "\n",
    "#all_predictions = np.zeros((test_batch.batch_size, data_test.test_tms, 78))\n",
    "\n",
    "#new_target = np.concatenate([curr_test_batch.context[:,0,-20:0,:], \n",
    "#                      DataObject.drop_articulation(curr_test_batch.target),\n",
    "#                      curr_test_batch.context[:,1,0:20,:]],\n",
    "#                      axis = 1)\n",
    "\n",
    "curr_test_batch.target[:,0:20,:,0] = final_output[:,0:20,:]\n",
    "curr_test_batch.target[:,0:20,:,1] = np.zeros(final_output[:,0:20,:].shape)\n",
    "\n",
    "\n",
    "\n",
    "curr_test_batch.target_split = 0\n",
    "curr_test_batch.window_size  = 20\n",
    "curr_test_batch.featurize(use_biaxial = True)\n",
    "\n",
    "model = load_model(my_model_name, curr_test_batch, biaxial_pn_encoder_concat_deeplstm)\n",
    "\n",
    "\n",
    "def take_prediction(t):\n",
    "    if t<20:\n",
    "        return -t\n",
    "    else:\n",
    "        return -20\n",
    "\n",
    "def take_actual(t):\n",
    "    if t <= test_tms:\n",
    "        return np.arange(19, 19+t, 1)\n",
    "    else:\n",
    "        return np.arange(t-test_tms+19, t-19, 1)\n",
    "\n",
    "\n",
    "for timestep in range(1,test_tms):\n",
    "    \n",
    "    \n",
    "    stdout.write('\\rtimestep {}/{}'.format(timestep, test_tms))\n",
    "    stdout.flush()\n",
    "    \n",
    "    prediction = model.predict([tf.convert_to_tensor(curr_test_batch.context, dtype = tf.float32), \n",
    "                                tf.convert_to_tensor(curr_test_batch.target_train, dtype = tf.float32)],\n",
    "                               steps = 1)[:,take_prediction(timestep):,:]\n",
    "    \n",
    "    notes = np.zeros(prediction.shape)\n",
    "    \n",
    "    turn_on = [turn_on_notes]*batch_size\n",
    "    for t in range(notes.shape[1]):\n",
    "        articulation = np.multiply(prediction[:,t,:], final_output[:,20+t,:])\n",
    "        articulation[articulation >= articulation_prob] = 1\n",
    "        articulation[articulation < articulation_prob] = 0\n",
    "        articulated_notes = np.sum(articulation, axis = -1)\n",
    "        \n",
    "        play_notes = turn_probabilities_to_notes(prediction[:,t,:], \n",
    "                                        turn_on = turn_on - articulated_notes,\n",
    "                                        how = 'random', \n",
    "                                        normalize = normalize,\n",
    "                                        divide_prob = divide_prob, \n",
    "                                        remap_to_max = remap_to_max)\n",
    "        \n",
    "        play_notes = play_notes + articulation\n",
    "        play_notes[play_notes >= 1] = 1\n",
    "        play_notes[play_notes < 1] = 0\n",
    "        \n",
    "        final_output[:,21+t,:] = play_notes\n",
    "    \n",
    "    #if timestep == test_tms:\n",
    "    #    sys.exit()\n",
    "    #articulation = np.multiply(prediction, final_output[:,take_actual(timestep),:])\n",
    "    #articulation[articulation >= articulation_prob] = 1\n",
    "    #articulation[articulation < articulation_prob] = 0\n",
    "    #articulated_notes = np.sum(articulation, axis = -1)\n",
    "    \n",
    "    #turn_on = turn_on_notes*np.ones((batch_size, timestep))\n",
    "    #prediction[np.where(articulation > 0)] = 0\n",
    "    \n",
    "    #all_predictions[:,timestep,:] = copy.deepcopy(prediction)\n",
    "    \n",
    "    #notes = turn_probabilities_to_notes(prediction, \n",
    "    #                                    turn_on = turn_on - articulated_notes,\n",
    "    #                                    how = 'random', \n",
    "    #                                    normalize = normalize,\n",
    "    #                                    divide_prob = divide_prob)\n",
    "    #notes = notes + articulation\n",
    "    #notes[notes >= 1] = 1\n",
    "    #notes[notes < 1] = 0\n",
    "    \n",
    "    #final_output[:,21:(21+timestep),:] = notes\n",
    "    \n",
    "    \n",
    "    # Now reinitialize the model and everything\n",
    "    curr_test_batch = copy.deepcopy(test_batch.data)\n",
    "    \n",
    "    curr_test_batch.target[:,0:20,:,0] = final_output[:,timestep:(20+timestep)]\n",
    "\n",
    "\n",
    "    curr_test_batch.target_split = 0\n",
    "    curr_test_batch.window_size  = 20\n",
    "    curr_test_batch.featurize(use_biaxial = True)\n",
    "\n",
    "\n",
    "\n",
    "    #model = load_model(my_model_name, curr_test_batch, biaxial_pn_encoder_concat_deeplstm)\n",
    "\n",
    "    \n",
    "    #if curr_test_batch.target.shape[1] <= 15:\n",
    "    #    curr_test_batch.target_split = 0\n",
    "    #    curr_test_batch.window_size  = timestep + 1\n",
    "    #else:\n",
    "    #    curr_test_batch.target_split = curr_test_batch.target.shape[1] - 15\n",
    "    #    curr_test_batch.window_size  = curr_test_batch.target.shape[1]\n",
    "    \n",
    "    \n",
    "    ######### WHY DO THIS?????? ######################################################\n",
    "\n",
    "    #model = load_model(my_model_name, curr_test_batch, biaxial_target_model_oneseq, 20)\n",
    "    \n",
    "#np.save('{}/all_predictions.npy'.format(foldername), all_predictions)\n",
    "\n",
    "####################################################\n",
    "\n",
    "#sys.exit('what?')\n",
    "\n",
    "true_batch = copy.deepcopy(test_batch.data)\n",
    "\n",
    "song_names = np.zeros(len(true_batch.link))\n",
    "song_names = song_names.tolist()\n",
    "i = 0\n",
    "for i, link in enumerate(true_batch.link):\n",
    "    with open(data_test.file) as csv_file:\n",
    "            csv_reader = csv.reader(csv_file, delimiter=',')\n",
    "            line_count = 0\n",
    "\n",
    "            for row in csv_reader:\n",
    "                if line_count == 0:\n",
    "                    line_count += 1\n",
    "                else:\n",
    "                    if row[4] == link:\n",
    "                        name = str(row[0]) + '_' + str(row[1]) + '___' + str(i)\n",
    "                        name = name.replace(\" \", \"-\")\n",
    "                        name = name.replace(\"/\", \"\")\n",
    "                        song_names[i] = name\n",
    "                        break  \n",
    "##########################################################                      \n",
    "\n",
    "if path.isdir(foldername):\n",
    "    os.system('rm -r {}'.format(foldername))\n",
    "\n",
    "if not path.isdir(foldername):\n",
    "    os.mkdir(foldername)\n",
    "\n",
    "with open('{}/setup.txt'.format(foldername), 'w+') as f:\n",
    "    f.write('what_type = {} \\n \\\n",
    "             train_tms = {} \\n \\\n",
    "             test_tms  = {} \\n \\\n",
    "             batch_size = {} \\n \\\n",
    "             songs_per_batch ={} \\n \\\n",
    "             how = {} \\n \\\n",
    "             normalize = {} \\n \\\n",
    "             turn_on = {} \\n \\\n",
    "             divide_prob = {} \\n \\\n",
    "             articulation_prob = {}'.format(what_type,\n",
    "                                            str(train_tms),\n",
    "                                            str(test_tms),\n",
    "                                            str(batch_size),\n",
    "                                            str(songs_per_batch),\n",
    "                                            how,\n",
    "                                            str(normalize),\n",
    "                                            str(turn_on[0]),\n",
    "                                            str(divide_prob),\n",
    "                                            str(articulation_prob)))\n",
    "\n",
    "##########################################################\n",
    "\n",
    "true_batch = copy.deepcopy(test_batch.data)\n",
    "\n",
    "true_batch.target = DataObject.drop_articulation(true_batch.target)\n",
    "\n",
    "# Combine context\n",
    "true_sample = np.append(np.squeeze(curr_test_batch.context[:,0,:,:]), true_batch.target, axis = 1)\n",
    "true_sample = np.append(true_sample, np.squeeze(curr_test_batch.context[:,1,:,:]), axis = 1)\n",
    "\n",
    "true_sample = np.append(np.expand_dims(true_sample, axis = 3), \n",
    "                                  np.expand_dims(true_sample, axis = 3), axis = 3)\n",
    "\n",
    "predicted_sample = np.append(np.squeeze(curr_test_batch.context[:,0,:,:]), final_output[:,20:(20+test_tms),:], axis = 1)\n",
    "predicted_sample = np.append(predicted_sample, np.squeeze(curr_test_batch.context[:,1,:,:]), axis = 1)\n",
    "\n",
    "predicted_sample = np.append(np.expand_dims(predicted_sample, axis = 3), \n",
    "                                       np.expand_dims(predicted_sample, axis = 3), axis = 3)\n",
    "\n",
    "# Save final midi\n",
    "\n",
    "#save_indices = np.random.randint(low = 0, high = test_batch.batch_size, size = 20)\n",
    "save_indices = np.arange(0,test_batch.batch_size)\n",
    "for idx, i in enumerate(save_indices):\n",
    "    print(\"saving {}\".format(idx))\n",
    "    #noteStateMatrixToMidi(true_sample[i,:,:], name = 'best_model_full_generation/NO_{}_TRUE_{}'.format(i,song_names[i]))\n",
    "    #noteStateMatrixToMidi(predicted_sample[i,:,:], name = 'best_model_full_generation/NO_{}_PRED_{}'.format(i,song_names[i]))\n",
    "    \n",
    "    noteStateMatrixToMidi(true_sample[i,:,:], name = '{}/NO_{}_TRUE_{}'.format(foldername,i,song_names[i]))\n",
    "    noteStateMatrixToMidi(predicted_sample[i,:,:], name = '{}/NO_{}_PRED_{}'.format(foldername,i,song_names[i]))\n",
    "\n",
    "\n",
    "\n",
    "                        "
   ]
  },
  {
   "cell_type": "code",
   "execution_count": 76,
   "metadata": {},
   "outputs": [],
   "source": [
    "#prediction_switch = final_output[:,20:(20+test_tms),:]\n",
    "prediction_switch = np.concatenate([np.zeros((64,1,78)), prediction], axis = 1)"
   ]
  },
  {
   "cell_type": "markdown",
   "metadata": {},
   "source": [
    "### Now play music in a loop looking back at everything"
   ]
  },
  {
   "cell_type": "code",
   "execution_count": null,
   "metadata": {},
   "outputs": [],
   "source": [
    "####### GOOD INIT START #######\n",
    "\n",
    "curr_test_batch = copy.deepcopy(test_batch.data)\n",
    "\n",
    "first_timestep = DataObject.drop_articulation(curr_test_batch.target[:,0:15,:])\n",
    "\n",
    "curr_test_batch.target_split = 0\n",
    "curr_test_batch.window_size  = 15\n",
    "curr_test_batch.featurize(use_biaxial = True)\n",
    "\n",
    "model = load_model(my_model_name, curr_test_batch, biaxial_target_model_oneseq, 20)\n",
    "\n",
    "final_output = np.zeros((test_batch.batch_size, data_test.test_tms, curr_test_batch.target_train.shape[-2]))\n",
    "final_output[:,0:15,:] = first_timestep\n",
    "\n",
    "all_predictions = np.zeros((test_batch.batch_size, data_test.test_tms, curr_test_batch.target_train.shape[-2]))\n",
    "\n",
    "for timestep in range(15,100):\n",
    "    \n",
    "    stdout.write('\\rtimestep {}/100'.format(timestep))\n",
    "    stdout.flush()\n",
    "    \n",
    "    prediction = model.predict([tf.convert_to_tensor(curr_test_batch.context, dtype = tf.float32), \n",
    "                                tf.convert_to_tensor(curr_test_batch.target_train, dtype = tf.float32)],\n",
    "                               steps = 1)\n",
    "    \n",
    "    all_predictions[:,timestep,:] = copy.deepcopy(prediction)\n",
    "    \n",
    "    notes = turn_probabilities_to_notes(prediction, how = 'random', turn_on = 8, normalize = True)\n",
    "    #notes = turn_probabilities_to_notes(prediction, how = 'random', threshold = 0.2, turn_on=20, normalize = False)\n",
    "    final_output[:,timestep,:] = notes\n",
    "    \n",
    "    \n",
    "    # Now reinitialize the model and everything\n",
    "    curr_test_batch = copy.deepcopy(test_batch.data)\n",
    "    curr_test_batch.target = copy.deepcopy(np.append(np.expand_dims(final_output, axis = 3), \n",
    "                                                     np.expand_dims(final_output, axis = 3), axis = 3))\n",
    "\n",
    "    curr_test_batch.target_split = 0\n",
    "    curr_test_batch.window_size  = timestep + 1\n",
    "    \n",
    "    #if curr_test_batch.target.shape[1] <= 15:\n",
    "    #    curr_test_batch.target_split = 0\n",
    "    #    curr_test_batch.window_size  = timestep + 1\n",
    "    #else:\n",
    "    #    curr_test_batch.target_split = curr_test_batch.target.shape[1] - 15\n",
    "    #    curr_test_batch.window_size  = curr_test_batch.target.shape[1]\n",
    "    \n",
    "    curr_test_batch.featurize(use_biaxial = True)\n",
    "    \n",
    "\n",
    "    model = load_model(my_model_name, curr_test_batch, biaxial_target_model_oneseq, 20)\n",
    "    \n",
    "np.save('best_model_full_generation_fully_random/all_predictions.npy', all_predictions)"
   ]
  },
  {
   "cell_type": "code",
   "execution_count": null,
   "metadata": {},
   "outputs": [],
   "source": [
    "true_batch = copy.deepcopy(test_batch.data)\n",
    "\n",
    "song_names = np.zeros(len(true_batch.link))\n",
    "song_names = song_names.tolist()\n",
    "i = 0\n",
    "for i, link in enumerate(true_batch.link):\n",
    "    with open(data_test.file) as csv_file:\n",
    "            csv_reader = csv.reader(csv_file, delimiter=',')\n",
    "            line_count = 0\n",
    "\n",
    "            for row in csv_reader:\n",
    "                if line_count == 0:\n",
    "                    line_count += 1\n",
    "                else:\n",
    "                    if row[4] == link:\n",
    "                        name = str(row[0]) + '_' + str(row[1]) + '___' + str(i)\n",
    "                        name = name.replace(\" \", \"-\")\n",
    "                        name = name.replace(\"/\", \"\")\n",
    "                        song_names[i] = name\n",
    "                        break                     "
   ]
  },
  {
   "cell_type": "code",
   "execution_count": null,
   "metadata": {},
   "outputs": [],
   "source": [
    "import os\n",
    "from os import path\n",
    "foldername = 'best_model_full_generation_train_normalized'\n",
    "\n",
    "if not path.isdir(foldername):\n",
    "    os.mkdir(foldername)"
   ]
  },
  {
   "cell_type": "code",
   "execution_count": null,
   "metadata": {},
   "outputs": [],
   "source": [
    "true_batch = copy.deepcopy(test_batch.data)\n",
    "\n",
    "true_batch.target = DataObject.drop_articulation(true_batch.target)\n",
    "\n",
    "# Combine context\n",
    "true_sample = np.append(np.squeeze(curr_test_batch.context[:,0,:,:]), true_batch.target, axis = 1)\n",
    "true_sample = np.append(true_sample, np.squeeze(curr_test_batch.context[:,1,:,:]), axis = 1)\n",
    "\n",
    "true_sample = np.append(np.expand_dims(true_sample, axis = 3), \n",
    "                                  np.expand_dims(true_sample, axis = 3), axis = 3)\n",
    "\n",
    "predicted_sample = np.append(np.squeeze(curr_test_batch.context[:,0,:,:]), final_output, axis = 1)\n",
    "predicted_sample = np.append(predicted_sample, np.squeeze(curr_test_batch.context[:,1,:,:]), axis = 1)\n",
    "\n",
    "predicted_sample = np.append(np.expand_dims(predicted_sample, axis = 3), \n",
    "                                       np.expand_dims(predicted_sample, axis = 3), axis = 3)\n",
    "\n",
    "# Save final midi\n",
    "\n",
    "#save_indices = np.random.randint(low = 0, high = test_batch.batch_size, size = 20)\n",
    "save_indices = np.arange(0,test_batch.batch_size)\n",
    "for idx, i in enumerate(save_indices):\n",
    "    print(\"saving {}\".format(idx))\n",
    "    #noteStateMatrixToMidi(true_sample[i,:,:], name = 'best_model_full_generation/NO_{}_TRUE_{}'.format(i,song_names[i]))\n",
    "    #noteStateMatrixToMidi(predicted_sample[i,:,:], name = 'best_model_full_generation/NO_{}_PRED_{}'.format(i,song_names[i]))\n",
    "    \n",
    "    noteStateMatrixToMidi(true_sample[i,:,:], name = '{}/NO_{}_TRUE_{}'.format(foldername,i,song_names[i]))\n",
    "    noteStateMatrixToMidi(predicted_sample[i,:,:], name = '{}/NO_{}_PRED_{}'.format(foldername,i,song_names[i]))\n",
    "\n",
    "\n"
   ]
  },
  {
   "cell_type": "markdown",
   "metadata": {},
   "source": [
    "### Now play music in a loop looking back only a 15 window"
   ]
  },
  {
   "cell_type": "code",
   "execution_count": null,
   "metadata": {},
   "outputs": [],
   "source": [
    "curr_test_batch = copy.copy(test_batch.data)\n",
    "\n",
    "first_timestep = DataObject.drop_articulation3d(curr_test_batch.target[:,0,:])\n",
    "\n",
    "curr_test_batch.target_split = 0\n",
    "curr_test_batch.window_size  = 1\n",
    "curr_test_batch.featurize(use_biaxial = True)\n",
    "\n",
    "model = load_model(my_model_name, curr_test_batch, biaxial_target_model_oneseq, 20)\n",
    "\n",
    "final_output = np.zeros((test_batch.batch_size, data_test.test_tms, curr_test_batch.target_train.shape[-2]))\n",
    "final_output[:,0,:] = first_timestep\n",
    "\n",
    "for timestep in range(1,99):\n",
    "    \n",
    "    print('timestep {}/100'.format(timestep))\n",
    "    \n",
    "    prediction = model.predict([tf.convert_to_tensor(curr_test_batch.context, dtype = tf.float32), \n",
    "                                tf.convert_to_tensor(curr_test_batch.target_train, dtype = tf.float32)],\n",
    "                               steps = 1)\n",
    "    \n",
    "    notes = turn_probabilities_to_notes(prediction, how = 'random')\n",
    "    final_output[:,timestep,:] = notes\n",
    "    \n",
    "    # Now reinitialize the model and everything\n",
    "    curr_test_batch = copy.copy(test_batch.data)\n",
    "    curr_test_batch.target = np.append(np.zeros((np.expand_dims(final_output, axis = 3).shape)), \n",
    "                                       np.expand_dims(final_output, axis = 3), axis = 3)\n",
    "\n",
    "    if curr_test_batch.target.shape[1] <= 15:\n",
    "        curr_test_batch.target_split = 0\n",
    "        curr_test_batch.window_size  = timestep + 1\n",
    "    else:\n",
    "        curr_test_batch.target_split = curr_test_batch.target.shape[1] - 15\n",
    "        curr_test_batch.window_size  = curr_test_batch.target.shape[1]\n",
    "        \n",
    "    curr_test_batch.featurize(use_biaxial = True)\n",
    "    \n",
    "\n",
    "    model = load_model(my_model_name, curr_test_batch, biaxial_target_model_oneseq, 20)"
   ]
  },
  {
   "cell_type": "markdown",
   "metadata": {},
   "source": [
    "# Experiment space"
   ]
  },
  {
   "cell_type": "markdown",
   "metadata": {},
   "source": [
    "## How to change target so that it gives the first 50 non silent timesteps"
   ]
  },
  {
   "cell_type": "code",
   "execution_count": null,
   "metadata": {},
   "outputs": [],
   "source": [
    "change_target = curr_batch.target.numpy()"
   ]
  },
  {
   "cell_type": "code",
   "execution_count": null,
   "metadata": {},
   "outputs": [],
   "source": [
    "igor = np.nonzero(curr_batch.target)"
   ]
  },
  {
   "cell_type": "code",
   "execution_count": null,
   "metadata": {},
   "outputs": [],
   "source": [
    "first_index = np.nonzero(np.r_[1, np.diff(igor[0])[:-1]])[0]"
   ]
  },
  {
   "cell_type": "code",
   "execution_count": null,
   "metadata": {},
   "outputs": [],
   "source": [
    "first_note_index = igor[1][first_index]"
   ]
  },
  {
   "cell_type": "code",
   "execution_count": null,
   "metadata": {},
   "outputs": [],
   "source": [
    "for batch, idx in enumerate(first_note_index):\n",
    "    change_target[batch,(idx+50):,:] = 0"
   ]
  },
  {
   "cell_type": "markdown",
   "metadata": {},
   "source": [
    "# Generate midi and see how it looks"
   ]
  },
  {
   "cell_type": "code",
   "execution_count": null,
   "metadata": {},
   "outputs": [],
   "source": [
    "def piano_roll_to_pretty_midi(piano_roll, fs=100, program=0):\n",
    "    \n",
    "    piano_roll = np.pad(piano_roll, [(0, 0), (20,20)], 'constant', constant_values=0)\n",
    "    \n",
    "    piano_roll = np.transpose(piano_roll)\n",
    "    \n",
    "    notes, frames = piano_roll.shape\n",
    "    pm = pretty_midi.PrettyMIDI()\n",
    "    instrument = pretty_midi.Instrument(program=program)\n",
    "\n",
    "    # pad 1 column of zeros so we can acknowledge inital and ending events\n",
    "    piano_roll = np.pad(piano_roll, [(0, 0), (1, 1)], 'constant')\n",
    "\n",
    "    # use changes in velocities to find note on / note off events\n",
    "    velocity_changes = np.nonzero(np.diff(piano_roll).T)\n",
    "\n",
    "    # keep track on velocities and note on times\n",
    "    prev_velocities = np.zeros(notes, dtype=int)\n",
    "    note_on_time = np.zeros(notes)\n",
    "\n",
    "    for time, note in zip(*velocity_changes):\n",
    "        # use time + 1 because of padding above\n",
    "        velocity = piano_roll[note, time + 1]\n",
    "        time = time / fs\n",
    "        if velocity > 0:\n",
    "            if prev_velocities[note] == 0:\n",
    "                note_on_time[note] = time\n",
    "                prev_velocities[note] = velocity\n",
    "        else:\n",
    "            pm_note = pretty_midi.Note(\n",
    "                velocity=prev_velocities[note],\n",
    "                pitch=note,\n",
    "                start=note_on_time[note],\n",
    "                end=time)\n",
    "            instrument.notes.append(pm_note)\n",
    "            prev_velocities[note] = 0\n",
    "    pm.instruments.append(instrument)\n",
    "    return pm\n",
    "\n",
    "def extract_piano_roll(predicted_pr, threshold):\n",
    "    \n",
    "    predicted_pr[predicted_pr >= threshold] = 1\n",
    "    predicted_pr[predicted_pr < threshold] = 0\n",
    "    \n",
    "    return predicted_pr"
   ]
  },
  {
   "cell_type": "code",
   "execution_count": null,
   "metadata": {},
   "outputs": [],
   "source": [
    "my_midi = piano_roll_to_pretty_midi(curr_batch.target[0,:,:], fs = 50)"
   ]
  },
  {
   "cell_type": "code",
   "execution_count": null,
   "metadata": {},
   "outputs": [],
   "source": [
    "my_midi.write('example_target.mid')"
   ]
  },
  {
   "cell_type": "code",
   "execution_count": null,
   "metadata": {},
   "outputs": [],
   "source": [
    "predicted_target = extract_piano_roll(output[0,:,:], threshold = 0.2)\n",
    "predicted_midi = piano_roll_to_pretty_midi(predicted_target, fs = 20)"
   ]
  },
  {
   "cell_type": "code",
   "execution_count": null,
   "metadata": {},
   "outputs": [],
   "source": []
  },
  {
   "cell_type": "code",
   "execution_count": null,
   "metadata": {},
   "outputs": [],
   "source": [
    "predicted_midi.write('example_predicted.mid')"
   ]
  },
  {
   "cell_type": "code",
   "execution_count": null,
   "metadata": {},
   "outputs": [],
   "source": [
    "idx = 10\n",
    "print(predicted_target[idx,:])\n",
    "print(curr_batch.target[0,idx,:])"
   ]
  },
  {
   "cell_type": "code",
   "execution_count": null,
   "metadata": {},
   "outputs": [],
   "source": [
    "curr_batch.link[0]"
   ]
  },
  {
   "cell_type": "code",
   "execution_count": null,
   "metadata": {},
   "outputs": [],
   "source": [
    "midi_data = pretty_midi.PrettyMIDI('maestro-v2.0.0/'+'2006/MIDI-Unprocessed_01_R1_2006_01-09_ORIG_MID--AUDIO_01_R1_2006_01_Track01_wav.midi')"
   ]
  },
  {
   "cell_type": "code",
   "execution_count": null,
   "metadata": {},
   "outputs": [],
   "source": [
    "midi_data.estimate_tempo()"
   ]
  },
  {
   "cell_type": "code",
   "execution_count": null,
   "metadata": {},
   "outputs": [],
   "source": [
    "target_shape  = curr_batch.target.shape"
   ]
  },
  {
   "cell_type": "code",
   "execution_count": null,
   "metadata": {},
   "outputs": [],
   "source": [
    "print(target_shape)"
   ]
  },
  {
   "cell_type": "code",
   "execution_count": null,
   "metadata": {},
   "outputs": [],
   "source": [
    "igor = tf.zeros((128, 10))"
   ]
  },
  {
   "cell_type": "code",
   "execution_count": null,
   "metadata": {},
   "outputs": [],
   "source": [
    "new_igor=tf.tile(tf.expand_dims(igor, 1), [1,target_shape[1],1])"
   ]
  },
  {
   "cell_type": "code",
   "execution_count": null,
   "metadata": {},
   "outputs": [],
   "source": [
    "tf.concat([curr_batch.target, new_igor], axis = 2)"
   ]
  },
  {
   "cell_type": "code",
   "execution_count": null,
   "metadata": {},
   "outputs": [],
   "source": [
    "curr_batch.target[0,0,:]"
   ]
  },
  {
   "cell_type": "code",
   "execution_count": null,
   "metadata": {},
   "outputs": [],
   "source": [
    "output[0,0,:]"
   ]
  },
  {
   "cell_type": "code",
   "execution_count": null,
   "metadata": {},
   "outputs": [],
   "source": [
    "igor = tf.convert_to_tensor([[1,1,1,1], [2,2,2,2], [3,3,3,3]])"
   ]
  },
  {
   "cell_type": "code",
   "execution_count": null,
   "metadata": {},
   "outputs": [],
   "source": [
    "igor.shape"
   ]
  },
  {
   "cell_type": "code",
   "execution_count": null,
   "metadata": {},
   "outputs": [],
   "source": [
    "tf.reshape(igor, [4,3])"
   ]
  },
  {
   "cell_type": "markdown",
   "metadata": {},
   "source": [
    "# Encoder"
   ]
  },
  {
   "cell_type": "code",
   "execution_count": null,
   "metadata": {},
   "outputs": [],
   "source": [
    "lstm = LSTM(100)"
   ]
  },
  {
   "cell_type": "code",
   "execution_count": null,
   "metadata": {},
   "outputs": [],
   "source": [
    "output = lstm(curr_batch.context)"
   ]
  },
  {
   "cell_type": "code",
   "execution_count": null,
   "metadata": {},
   "outputs": [],
   "source": [
    "output.shape"
   ]
  },
  {
   "cell_type": "code",
   "execution_count": null,
   "metadata": {},
   "outputs": [],
   "source": [
    "res_output = K.mean(tf.reshape(output, [128, 59, 100]), axis = -2)"
   ]
  },
  {
   "cell_type": "code",
   "execution_count": null,
   "metadata": {},
   "outputs": [],
   "source": [
    "res_output.shape"
   ]
  },
  {
   "cell_type": "code",
   "execution_count": null,
   "metadata": {},
   "outputs": [],
   "source": [
    "tile_output = tf.tile(tf.expand_dims(res_output, 1), [1,150,1])"
   ]
  },
  {
   "cell_type": "code",
   "execution_count": null,
   "metadata": {},
   "outputs": [],
   "source": [
    "tile_output.shape"
   ]
  },
  {
   "cell_type": "code",
   "execution_count": null,
   "metadata": {},
   "outputs": [],
   "source": [
    "K.mean(res_output, axis = -2).shape"
   ]
  },
  {
   "cell_type": "code",
   "execution_count": null,
   "metadata": {},
   "outputs": [],
   "source": [
    "input_context_ = Input((None, 2), name=\"Input_layer_contxt_xy\") # [num_pts, 2]\n",
    "input_target_x = Input((None, 1), name=\"Input_layer_target_x\")  # [num_pts, 1]\n",
    "\n",
    "encoder = input_context_xy"
   ]
  },
  {
   "cell_type": "code",
   "execution_count": null,
   "metadata": {},
   "outputs": [],
   "source": [
    "curr_batch.context.shape"
   ]
  },
  {
   "cell_type": "code",
   "execution_count": null,
   "metadata": {},
   "outputs": [],
   "source": []
  }
 ],
 "metadata": {
  "kernelspec": {
   "display_name": "testenv",
   "language": "python",
   "name": "testenv"
  },
  "language_info": {
   "codemirror_mode": {
    "name": "ipython",
    "version": 3
   },
   "file_extension": ".py",
   "mimetype": "text/x-python",
   "name": "python",
   "nbconvert_exporter": "python",
   "pygments_lexer": "ipython3",
   "version": "3.5.3"
  }
 },
 "nbformat": 4,
 "nbformat_minor": 2
}
