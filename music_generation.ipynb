{
 "cells": [
  {
   "cell_type": "code",
   "execution_count": 72,
   "metadata": {},
   "outputs": [],
   "source": [
    "import pretty_midi\n",
    "import numpy as np\n",
    "import matplotlib.pyplot as plt\n",
    "from keras.models import Model\n",
    "from keras.layers import Dense, Input, Lambda, Concatenate\n",
    "\n",
    "from keras import backend as K\n",
    "\n",
    "import tensorflow as tf\n",
    "import tensorflow_probability as tfp # for tf version 2.0.0, tfp version 0.8 is needed \n",
    "import numpy as np\n",
    "\n",
    "import matplotlib.pyplot as plt\n",
    "import csv\n",
    "from sys import stdout\n",
    "import random\n",
    "\n",
    "# My code\n",
    "\n",
    "\n",
    "\n",
    "%matplotlib inline"
   ]
  },
  {
   "cell_type": "code",
   "execution_count": null,
   "metadata": {},
   "outputs": [],
   "source": [
    "print(\"TensorFlow version: {}\".format(tf.__version__))\n",
    "print(\"GPU is available: {}\".format(tf.test.is_gpu_available()))"
   ]
  },
  {
   "cell_type": "code",
   "execution_count": 13,
   "metadata": {},
   "outputs": [],
   "source": [
    "file = 'maestro-v2.0.0/maestro-v2.0.0.csv'"
   ]
  },
  {
   "cell_type": "code",
   "execution_count": 31,
   "metadata": {},
   "outputs": [],
   "source": [
    "class DataLinks(object):\n",
    "    \n",
    "    def __init__(self, file, what_type, train_sec, test_sec):\n",
    "        self.file = file\n",
    "        self.what_type = what_type\n",
    "        self.train_sec = train_sec\n",
    "        self.test_sec = test_sec\n",
    "        self.get_links()\n",
    "        self.get_number_of_examples()\n",
    "    \n",
    "    def get_links(self):\n",
    "        links    = []\n",
    "        duration = []\n",
    "        with open(self.file) as csv_file:\n",
    "            csv_reader = csv.reader(csv_file, delimiter=',')\n",
    "            line_count = 0\n",
    "\n",
    "            for row in csv_reader:\n",
    "                if line_count == 0:\n",
    "                    line_count += 1\n",
    "                else:\n",
    "                    if row[2] == self.what_type:\n",
    "                        links.append(row[4])\n",
    "                        duration.append(row[-1])\n",
    "                    line_count += 1\n",
    "        self.links = links\n",
    "        self.duration = duration\n",
    "    \n",
    "    def get_number_of_examples(self):\n",
    "        num_examples   = []\n",
    "        example_length = self.train_sec + self.test_sec \n",
    "        for idx, link in enumerate(self.links):\n",
    "            link_duration = self.duration[idx]\n",
    "            num_examples.append(int(float(link_duration)/example_length))\n",
    "        \n",
    "        self.num_examples = num_examples\n",
    "    "
   ]
  },
  {
   "cell_type": "code",
   "execution_count": 102,
   "metadata": {},
   "outputs": [
    {
     "data": {
      "text/plain": [
       "2"
      ]
     },
     "execution_count": 102,
     "metadata": {},
     "output_type": "execute_result"
    }
   ],
   "source": [
    "random.choice([1,2,3,4])"
   ]
  },
  {
   "cell_type": "code",
   "execution_count": 108,
   "metadata": {},
   "outputs": [],
   "source": [
    "class TrainingExample(object):\n",
    "    \n",
    "    def __init__(self, context, target, link):\n",
    "        self.context = context\n",
    "        self.target = target\n",
    "        self.link = link\n",
    "\n",
    "class Batch(object):\n",
    "\n",
    "    def __init__(self, data_object, batch_size, songs_per_batch):\n",
    "\n",
    "        assert isinstance(data_object, DataObject), \"Pass an instance of DataObject to Batch\"\n",
    "        assert batch_size < len(data_object), \"Batch size must be smaller than data length\"\n",
    "        assert batch_size % songs_per_batch == 0, \"Select batch_size divisible by songs_per_batch\"\n",
    "        \n",
    "        self.all_data        = data_object\n",
    "        self.batch_size      = batch_size\n",
    "        self.songs_per_batch = songs_per_batch \n",
    "        self.data            = data_object.generate_batch(batch_size, songs_per_batch)\n",
    "\n",
    "        assert len(self.data) == self.batch_size, \"Length of batch object is not batch_size\"\n",
    "        \n",
    "    def __next__(self):\n",
    "        \n",
    "        self.data = self.all_data.generate_batch(self.batch_size, self.songs_per_batch)\n",
    "        \n",
    "        return self.data\n",
    "\n",
    "    def __iter__(self):\n",
    "        return self\n",
    "        \n",
    "\n",
    "class DataObject(DataLinks):\n",
    "\n",
    "    def __init__(self, file, \n",
    "                 what_type, \n",
    "                 train_sec, \n",
    "                 test_sec,\n",
    "                 fs,\n",
    "    ):\n",
    "        super(DataObject, self).__init__(file, what_type, train_sec, test_sec)\n",
    "        self.fs = fs\n",
    "\n",
    "    #def __getitem__(self, arg):\n",
    "    #    return DataObject(self.xdata[arg], self.ydata[arg])\n",
    "\n",
    "    def __len__(self):\n",
    "        return sum(self.num_examples)\n",
    "\n",
    "    def generate_batch(self, batch_size, songs_per_batch):\n",
    "        \n",
    "        batch_data = []\n",
    "        \n",
    "        random_songs = random.sample(self.links, songs_per_batch)\n",
    "        \n",
    "        examples_per_song = batch_size/songs_per_batch\n",
    "        \n",
    "        for link in random_songs:\n",
    "            piano_matrix = DataObject.get_piano_matrix(self, link)\n",
    "            timesteps = piano_matrix.shape[-1]\n",
    "            for i in range(int(examples_per_song)):\n",
    "                start = random.randint(0, timesteps-self.fs*(self.train_sec+self.test_sec))\n",
    "                batch_data.append(TrainingExample(piano_matrix[:,start:(start+self.fs*self.train_sec)],\n",
    "                                                  piano_matrix[:,(start+self.fs*self.train_sec):start+self.fs*(self.train_sec+self.test_sec)],\n",
    "                                                  link))\n",
    "        \n",
    "        return batch_data\n",
    "                    \n",
    "    def get_piano_matrix(self, link):\n",
    "        \n",
    "        self.piano_matrix = []\n",
    "        self.training_examples = []\n",
    "        \n",
    "        lowerBound = 20\n",
    "        upperBound = 108\n",
    "    \n",
    "        midi_data = pretty_midi.PrettyMIDI('maestro-v2.0.0/'+link)\n",
    "\n",
    "        piano_matrix = midi_data.get_piano_roll(fs = self.fs)\n",
    "\n",
    "        piano_matrix = piano_matrix[lowerBound:upperBound, :]\n",
    "\n",
    "        # Strip silence at beginning and end\n",
    "        start = np.min(np.where(piano_matrix != 0)[1])\n",
    "        end   = np.max(np.where(piano_matrix != 0)[1])\n",
    "\n",
    "        piano_matrix = piano_matrix[:, start:end]\n",
    "\n",
    "        # Discard pitch information\n",
    "        piano_matrix[piano_matrix > 0] = 1\n",
    "            \n",
    "        return tf.convert_to_tensor(piano_matrix, dtype=tf.int8)\n",
    "        \n",
    "    "
   ]
  },
  {
   "cell_type": "code",
   "execution_count": 109,
   "metadata": {},
   "outputs": [],
   "source": [
    "# Call data class\n",
    "data = DataObject(file, what_type = 'train', train_sec = 15, test_sec = 5, fs = 20)\n",
    "\n",
    "# Create a batch class which we will iterate over\n",
    "train_batch = Batch(data, 128, 4)"
   ]
  },
  {
   "cell_type": "code",
   "execution_count": 68,
   "metadata": {},
   "outputs": [
    {
     "data": {
      "text/plain": [
       "'698.661160312'"
      ]
     },
     "execution_count": 68,
     "metadata": {},
     "output_type": "execute_result"
    }
   ],
   "source": [
    "data.duration[0]"
   ]
  },
  {
   "cell_type": "code",
   "execution_count": 69,
   "metadata": {},
   "outputs": [
    {
     "data": {
      "text/plain": [
       "34"
      ]
     },
     "execution_count": 69,
     "metadata": {},
     "output_type": "execute_result"
    }
   ],
   "source": [
    "data.num_examples[0]"
   ]
  },
  {
   "cell_type": "code",
   "execution_count": 70,
   "metadata": {},
   "outputs": [
    {
     "data": {
      "text/plain": [
       "<tf.Tensor: id=2528, shape=(88, 13953), dtype=int8, numpy=\n",
       "array([[0, 0, 0, ..., 0, 0, 0],\n",
       "       [0, 0, 0, ..., 0, 0, 0],\n",
       "       [0, 0, 0, ..., 0, 0, 0],\n",
       "       ...,\n",
       "       [0, 0, 0, ..., 0, 0, 0],\n",
       "       [0, 0, 0, ..., 0, 0, 0],\n",
       "       [0, 0, 0, ..., 0, 0, 0]], dtype=int8)>"
      ]
     },
     "execution_count": 70,
     "metadata": {},
     "output_type": "execute_result"
    }
   ],
   "source": [
    "data.piano_matrix[0]"
   ]
  },
  {
   "cell_type": "code",
   "execution_count": 71,
   "metadata": {},
   "outputs": [
    {
     "data": {
      "text/plain": [
       "20"
      ]
     },
     "execution_count": 71,
     "metadata": {},
     "output_type": "execute_result"
    }
   ],
   "source": [
    "data.fs"
   ]
  },
  {
   "cell_type": "code",
   "execution_count": 58,
   "metadata": {},
   "outputs": [
    {
     "data": {
      "text/plain": [
       "22954.51266565"
      ]
     },
     "execution_count": 58,
     "metadata": {},
     "output_type": "execute_result"
    }
   ],
   "source": [
    "sum([float(i) for i in data.duration[0:30]])"
   ]
  },
  {
   "cell_type": "code",
   "execution_count": 59,
   "metadata": {},
   "outputs": [
    {
     "data": {
      "text/plain": [
       "1147.7"
      ]
     },
     "execution_count": 59,
     "metadata": {},
     "output_type": "execute_result"
    }
   ],
   "source": [
    "22954/20"
   ]
  },
  {
   "cell_type": "code",
   "execution_count": null,
   "metadata": {},
   "outputs": [],
   "source": []
  },
  {
   "cell_type": "code",
   "execution_count": null,
   "metadata": {},
   "outputs": [],
   "source": []
  },
  {
   "cell_type": "code",
   "execution_count": null,
   "metadata": {},
   "outputs": [],
   "source": []
  },
  {
   "cell_type": "code",
   "execution_count": null,
   "metadata": {},
   "outputs": [],
   "source": []
  },
  {
   "cell_type": "code",
   "execution_count": null,
   "metadata": {},
   "outputs": [],
   "source": []
  },
  {
   "cell_type": "code",
   "execution_count": null,
   "metadata": {},
   "outputs": [],
   "source": [
    "piano_matrix = get_piano_matrix('maestro-v2.0.0/2004/MIDI-Unprocessed_SMF_02_R1_2004_01-05_ORIG_MID--AUDIO_02_R1_2004_05_Track05_wav.midi')"
   ]
  },
  {
   "cell_type": "code",
   "execution_count": null,
   "metadata": {},
   "outputs": [],
   "source": [
    "piano_matrix[piano_matrix > 0] = 1"
   ]
  },
  {
   "cell_type": "code",
   "execution_count": null,
   "metadata": {},
   "outputs": [],
   "source": [
    "tf.convert_to_tensor(piano_matrix, dtype=tf.int8)"
   ]
  },
  {
   "cell_type": "code",
   "execution_count": null,
   "metadata": {},
   "outputs": [],
   "source": [
    "new_data.shape[-1]"
   ]
  },
  {
   "cell_type": "code",
   "execution_count": null,
   "metadata": {},
   "outputs": [],
   "source": [
    "new_data.append(tf.convert_to_tensor(piano_matrix, dtype=tf.int8))"
   ]
  },
  {
   "cell_type": "code",
   "execution_count": null,
   "metadata": {},
   "outputs": [],
   "source": [
    "new_data=tf.convert_to_tensor(new_data)"
   ]
  },
  {
   "cell_type": "code",
   "execution_count": null,
   "metadata": {},
   "outputs": [],
   "source": [
    "training_examples = split_song_to_examples(piano_matrix)"
   ]
  },
  {
   "cell_type": "code",
   "execution_count": null,
   "metadata": {},
   "outputs": [],
   "source": [
    "training_examples[0].val"
   ]
  },
  {
   "cell_type": "code",
   "execution_count": null,
   "metadata": {},
   "outputs": [],
   "source": [
    "plt.plot(piano_matrix[38,:])\n",
    "\n",
    "plt.show()"
   ]
  },
  {
   "cell_type": "code",
   "execution_count": null,
   "metadata": {},
   "outputs": [],
   "source": [
    "midi_data.get_beats()"
   ]
  },
  {
   "cell_type": "code",
   "execution_count": null,
   "metadata": {},
   "outputs": [],
   "source": [
    "midi_data.get_chroma().shape"
   ]
  },
  {
   "cell_type": "code",
   "execution_count": null,
   "metadata": {},
   "outputs": [],
   "source": [
    "piano_matrix[38,10312:10490]"
   ]
  },
  {
   "cell_type": "code",
   "execution_count": null,
   "metadata": {},
   "outputs": [],
   "source": [
    "np.where(piano_matrix[38,:] != 0)"
   ]
  },
  {
   "cell_type": "code",
   "execution_count": null,
   "metadata": {},
   "outputs": [],
   "source": []
  }
 ],
 "metadata": {
  "kernelspec": {
   "display_name": "testenv",
   "language": "python",
   "name": "testenv"
  },
  "language_info": {
   "codemirror_mode": {
    "name": "ipython",
    "version": 3
   },
   "file_extension": ".py",
   "mimetype": "text/x-python",
   "name": "python",
   "nbconvert_exporter": "python",
   "pygments_lexer": "ipython3",
   "version": "3.5.3"
  }
 },
 "nbformat": 4,
 "nbformat_minor": 2
}
